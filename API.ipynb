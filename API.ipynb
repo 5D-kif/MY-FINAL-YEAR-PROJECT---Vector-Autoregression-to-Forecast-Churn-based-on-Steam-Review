{
 "cells": [
  {
   "cell_type": "code",
   "execution_count": 1,
   "metadata": {},
   "outputs": [],
   "source": [
    "#https://github.com/woctezuma/download-steam-reviews   \n",
    "#refer the coding here\n",
    "\n",
    "import steamreviews\n"
   ]
  },
  {
   "cell_type": "code",
   "execution_count": 184,
   "metadata": {},
   "outputs": [
    {
     "name": "stdout",
     "output_type": "stream",
     "text": [
      "Loading idlist.txt\n",
      "Loading idprocessed_on_20221219.txt\n",
      "Downloading reviews for appID = 281990\n",
      "[appID = 281990] expected #reviews = 140240\n"
     ]
    },
    {
     "ename": "KeyboardInterrupt",
     "evalue": "",
     "output_type": "error",
     "traceback": [
      "\u001b[1;31m---------------------------------------------------------------------------\u001b[0m",
      "\u001b[1;31mKeyboardInterrupt\u001b[0m                         Traceback (most recent call last)",
      "\u001b[1;32m~\\AppData\\Local\\Temp/ipykernel_14652/1907524020.py\u001b[0m in \u001b[0;36m<module>\u001b[1;34m\u001b[0m\n\u001b[0;32m      4\u001b[0m \u001b[1;33m\u001b[0m\u001b[0m\n\u001b[0;32m      5\u001b[0m \u001b[1;31m#if info does not come out, delete the idprocessed file\u001b[0m\u001b[1;33m\u001b[0m\u001b[1;33m\u001b[0m\u001b[1;33m\u001b[0m\u001b[0m\n\u001b[1;32m----> 6\u001b[1;33m \u001b[0msteamreviews\u001b[0m\u001b[1;33m.\u001b[0m\u001b[0mdownload_reviews_for_app_id_batch\u001b[0m\u001b[1;33m(\u001b[0m\u001b[1;33m)\u001b[0m\u001b[1;33m\u001b[0m\u001b[1;33m\u001b[0m\u001b[0m\n\u001b[0m",
      "\u001b[1;32md:\\Users\\User\\Anaconda3\\lib\\site-packages\\steamreviews\\download_reviews.py\u001b[0m in \u001b[0;36mdownload_reviews_for_app_id_batch\u001b[1;34m(input_app_ids, previously_processed_app_ids, chosen_request_params, verbose)\u001b[0m\n\u001b[0;32m    442\u001b[0m \u001b[1;33m\u001b[0m\u001b[0m\n\u001b[0;32m    443\u001b[0m         review_dict, query_count = download_reviews_for_app_id(\n\u001b[1;32m--> 444\u001b[1;33m             \u001b[0mapp_id\u001b[0m\u001b[1;33m,\u001b[0m \u001b[0mquery_count\u001b[0m\u001b[1;33m,\u001b[0m \u001b[0mchosen_request_params\u001b[0m\u001b[1;33m,\u001b[0m \u001b[0mverbose\u001b[0m\u001b[1;33m=\u001b[0m\u001b[0mverbose\u001b[0m\u001b[1;33m\u001b[0m\u001b[1;33m\u001b[0m\u001b[0m\n\u001b[0m\u001b[0;32m    445\u001b[0m         )\n\u001b[0;32m    446\u001b[0m \u001b[1;33m\u001b[0m\u001b[0m\n",
      "\u001b[1;32md:\\Users\\User\\Anaconda3\\lib\\site-packages\\steamreviews\\download_reviews.py\u001b[0m in \u001b[0;36mdownload_reviews_for_app_id\u001b[1;34m(app_id, query_count, chosen_request_params, start_cursor, verbose)\u001b[0m\n\u001b[0;32m    312\u001b[0m             \u001b[0mcursor\u001b[0m\u001b[1;33m,\u001b[0m\u001b[1;33m\u001b[0m\u001b[1;33m\u001b[0m\u001b[0m\n\u001b[0;32m    313\u001b[0m         \u001b[1;33m)\u001b[0m \u001b[1;33m=\u001b[0m \u001b[0mdownload_reviews_for_app_id_with_offset\u001b[0m\u001b[1;33m(\u001b[0m\u001b[1;33m\u001b[0m\u001b[1;33m\u001b[0m\u001b[0m\n\u001b[1;32m--> 314\u001b[1;33m             \u001b[0mapp_id\u001b[0m\u001b[1;33m,\u001b[0m \u001b[0mquery_count\u001b[0m\u001b[1;33m,\u001b[0m \u001b[0mcursor\u001b[0m\u001b[1;33m,\u001b[0m \u001b[0mchosen_request_params\u001b[0m\u001b[1;33m\u001b[0m\u001b[1;33m\u001b[0m\u001b[0m\n\u001b[0m\u001b[0;32m    315\u001b[0m         )\n\u001b[0;32m    316\u001b[0m \u001b[1;33m\u001b[0m\u001b[0m\n",
      "\u001b[1;32md:\\Users\\User\\Anaconda3\\lib\\site-packages\\steamreviews\\download_reviews.py\u001b[0m in \u001b[0;36mdownload_reviews_for_app_id_with_offset\u001b[1;34m(app_id, query_count, cursor, chosen_request_params)\u001b[0m\n\u001b[0;32m    216\u001b[0m     \u001b[0mreq_data\u001b[0m\u001b[1;33m[\u001b[0m\u001b[1;34m\"cursor\"\u001b[0m\u001b[1;33m]\u001b[0m \u001b[1;33m=\u001b[0m \u001b[0mstr\u001b[0m\u001b[1;33m(\u001b[0m\u001b[0mcursor\u001b[0m\u001b[1;33m)\u001b[0m\u001b[1;33m\u001b[0m\u001b[1;33m\u001b[0m\u001b[0m\n\u001b[0;32m    217\u001b[0m \u001b[1;33m\u001b[0m\u001b[0m\n\u001b[1;32m--> 218\u001b[1;33m     \u001b[0mresp_data\u001b[0m \u001b[1;33m=\u001b[0m \u001b[0mrequests\u001b[0m\u001b[1;33m.\u001b[0m\u001b[0mget\u001b[0m\u001b[1;33m(\u001b[0m\u001b[0mget_steam_api_url\u001b[0m\u001b[1;33m(\u001b[0m\u001b[1;33m)\u001b[0m \u001b[1;33m+\u001b[0m \u001b[0mreq_data\u001b[0m\u001b[1;33m[\u001b[0m\u001b[1;34m\"appids\"\u001b[0m\u001b[1;33m]\u001b[0m\u001b[1;33m,\u001b[0m \u001b[0mparams\u001b[0m\u001b[1;33m=\u001b[0m\u001b[0mreq_data\u001b[0m\u001b[1;33m)\u001b[0m\u001b[1;33m\u001b[0m\u001b[1;33m\u001b[0m\u001b[0m\n\u001b[0m\u001b[0;32m    219\u001b[0m     \u001b[0mstatus_code\u001b[0m \u001b[1;33m=\u001b[0m \u001b[0mresp_data\u001b[0m\u001b[1;33m.\u001b[0m\u001b[0mstatus_code\u001b[0m\u001b[1;33m\u001b[0m\u001b[1;33m\u001b[0m\u001b[0m\n\u001b[0;32m    220\u001b[0m     \u001b[0mquery_count\u001b[0m \u001b[1;33m+=\u001b[0m \u001b[1;36m1\u001b[0m\u001b[1;33m\u001b[0m\u001b[1;33m\u001b[0m\u001b[0m\n",
      "\u001b[1;32md:\\Users\\User\\Anaconda3\\lib\\site-packages\\requests\\api.py\u001b[0m in \u001b[0;36mget\u001b[1;34m(url, params, **kwargs)\u001b[0m\n\u001b[0;32m     74\u001b[0m \u001b[1;33m\u001b[0m\u001b[0m\n\u001b[0;32m     75\u001b[0m     \u001b[0mkwargs\u001b[0m\u001b[1;33m.\u001b[0m\u001b[0msetdefault\u001b[0m\u001b[1;33m(\u001b[0m\u001b[1;34m'allow_redirects'\u001b[0m\u001b[1;33m,\u001b[0m \u001b[1;32mTrue\u001b[0m\u001b[1;33m)\u001b[0m\u001b[1;33m\u001b[0m\u001b[1;33m\u001b[0m\u001b[0m\n\u001b[1;32m---> 76\u001b[1;33m     \u001b[1;32mreturn\u001b[0m \u001b[0mrequest\u001b[0m\u001b[1;33m(\u001b[0m\u001b[1;34m'get'\u001b[0m\u001b[1;33m,\u001b[0m \u001b[0murl\u001b[0m\u001b[1;33m,\u001b[0m \u001b[0mparams\u001b[0m\u001b[1;33m=\u001b[0m\u001b[0mparams\u001b[0m\u001b[1;33m,\u001b[0m \u001b[1;33m**\u001b[0m\u001b[0mkwargs\u001b[0m\u001b[1;33m)\u001b[0m\u001b[1;33m\u001b[0m\u001b[1;33m\u001b[0m\u001b[0m\n\u001b[0m\u001b[0;32m     77\u001b[0m \u001b[1;33m\u001b[0m\u001b[0m\n\u001b[0;32m     78\u001b[0m \u001b[1;33m\u001b[0m\u001b[0m\n",
      "\u001b[1;32md:\\Users\\User\\Anaconda3\\lib\\site-packages\\requests\\api.py\u001b[0m in \u001b[0;36mrequest\u001b[1;34m(method, url, **kwargs)\u001b[0m\n\u001b[0;32m     59\u001b[0m     \u001b[1;31m# cases, and look like a memory leak in others.\u001b[0m\u001b[1;33m\u001b[0m\u001b[1;33m\u001b[0m\u001b[1;33m\u001b[0m\u001b[0m\n\u001b[0;32m     60\u001b[0m     \u001b[1;32mwith\u001b[0m \u001b[0msessions\u001b[0m\u001b[1;33m.\u001b[0m\u001b[0mSession\u001b[0m\u001b[1;33m(\u001b[0m\u001b[1;33m)\u001b[0m \u001b[1;32mas\u001b[0m \u001b[0msession\u001b[0m\u001b[1;33m:\u001b[0m\u001b[1;33m\u001b[0m\u001b[1;33m\u001b[0m\u001b[0m\n\u001b[1;32m---> 61\u001b[1;33m         \u001b[1;32mreturn\u001b[0m \u001b[0msession\u001b[0m\u001b[1;33m.\u001b[0m\u001b[0mrequest\u001b[0m\u001b[1;33m(\u001b[0m\u001b[0mmethod\u001b[0m\u001b[1;33m=\u001b[0m\u001b[0mmethod\u001b[0m\u001b[1;33m,\u001b[0m \u001b[0murl\u001b[0m\u001b[1;33m=\u001b[0m\u001b[0murl\u001b[0m\u001b[1;33m,\u001b[0m \u001b[1;33m**\u001b[0m\u001b[0mkwargs\u001b[0m\u001b[1;33m)\u001b[0m\u001b[1;33m\u001b[0m\u001b[1;33m\u001b[0m\u001b[0m\n\u001b[0m\u001b[0;32m     62\u001b[0m \u001b[1;33m\u001b[0m\u001b[0m\n\u001b[0;32m     63\u001b[0m \u001b[1;33m\u001b[0m\u001b[0m\n",
      "\u001b[1;32md:\\Users\\User\\Anaconda3\\lib\\site-packages\\requests\\sessions.py\u001b[0m in \u001b[0;36mrequest\u001b[1;34m(self, method, url, params, data, headers, cookies, files, auth, timeout, allow_redirects, proxies, hooks, stream, verify, cert, json)\u001b[0m\n\u001b[0;32m    540\u001b[0m         }\n\u001b[0;32m    541\u001b[0m         \u001b[0msend_kwargs\u001b[0m\u001b[1;33m.\u001b[0m\u001b[0mupdate\u001b[0m\u001b[1;33m(\u001b[0m\u001b[0msettings\u001b[0m\u001b[1;33m)\u001b[0m\u001b[1;33m\u001b[0m\u001b[1;33m\u001b[0m\u001b[0m\n\u001b[1;32m--> 542\u001b[1;33m         \u001b[0mresp\u001b[0m \u001b[1;33m=\u001b[0m \u001b[0mself\u001b[0m\u001b[1;33m.\u001b[0m\u001b[0msend\u001b[0m\u001b[1;33m(\u001b[0m\u001b[0mprep\u001b[0m\u001b[1;33m,\u001b[0m \u001b[1;33m**\u001b[0m\u001b[0msend_kwargs\u001b[0m\u001b[1;33m)\u001b[0m\u001b[1;33m\u001b[0m\u001b[1;33m\u001b[0m\u001b[0m\n\u001b[0m\u001b[0;32m    543\u001b[0m \u001b[1;33m\u001b[0m\u001b[0m\n\u001b[0;32m    544\u001b[0m         \u001b[1;32mreturn\u001b[0m \u001b[0mresp\u001b[0m\u001b[1;33m\u001b[0m\u001b[1;33m\u001b[0m\u001b[0m\n",
      "\u001b[1;32md:\\Users\\User\\Anaconda3\\lib\\site-packages\\requests\\sessions.py\u001b[0m in \u001b[0;36msend\u001b[1;34m(self, request, **kwargs)\u001b[0m\n\u001b[0;32m    653\u001b[0m \u001b[1;33m\u001b[0m\u001b[0m\n\u001b[0;32m    654\u001b[0m         \u001b[1;31m# Send the request\u001b[0m\u001b[1;33m\u001b[0m\u001b[1;33m\u001b[0m\u001b[1;33m\u001b[0m\u001b[0m\n\u001b[1;32m--> 655\u001b[1;33m         \u001b[0mr\u001b[0m \u001b[1;33m=\u001b[0m \u001b[0madapter\u001b[0m\u001b[1;33m.\u001b[0m\u001b[0msend\u001b[0m\u001b[1;33m(\u001b[0m\u001b[0mrequest\u001b[0m\u001b[1;33m,\u001b[0m \u001b[1;33m**\u001b[0m\u001b[0mkwargs\u001b[0m\u001b[1;33m)\u001b[0m\u001b[1;33m\u001b[0m\u001b[1;33m\u001b[0m\u001b[0m\n\u001b[0m\u001b[0;32m    656\u001b[0m \u001b[1;33m\u001b[0m\u001b[0m\n\u001b[0;32m    657\u001b[0m         \u001b[1;31m# Total elapsed time of the request (approximately)\u001b[0m\u001b[1;33m\u001b[0m\u001b[1;33m\u001b[0m\u001b[1;33m\u001b[0m\u001b[0m\n",
      "\u001b[1;32md:\\Users\\User\\Anaconda3\\lib\\site-packages\\requests\\adapters.py\u001b[0m in \u001b[0;36msend\u001b[1;34m(self, request, stream, timeout, verify, cert, proxies)\u001b[0m\n\u001b[0;32m    447\u001b[0m                     \u001b[0mdecode_content\u001b[0m\u001b[1;33m=\u001b[0m\u001b[1;32mFalse\u001b[0m\u001b[1;33m,\u001b[0m\u001b[1;33m\u001b[0m\u001b[1;33m\u001b[0m\u001b[0m\n\u001b[0;32m    448\u001b[0m                     \u001b[0mretries\u001b[0m\u001b[1;33m=\u001b[0m\u001b[0mself\u001b[0m\u001b[1;33m.\u001b[0m\u001b[0mmax_retries\u001b[0m\u001b[1;33m,\u001b[0m\u001b[1;33m\u001b[0m\u001b[1;33m\u001b[0m\u001b[0m\n\u001b[1;32m--> 449\u001b[1;33m                     \u001b[0mtimeout\u001b[0m\u001b[1;33m=\u001b[0m\u001b[0mtimeout\u001b[0m\u001b[1;33m\u001b[0m\u001b[1;33m\u001b[0m\u001b[0m\n\u001b[0m\u001b[0;32m    450\u001b[0m                 )\n\u001b[0;32m    451\u001b[0m \u001b[1;33m\u001b[0m\u001b[0m\n",
      "\u001b[1;32md:\\Users\\User\\Anaconda3\\lib\\site-packages\\urllib3\\connectionpool.py\u001b[0m in \u001b[0;36murlopen\u001b[1;34m(self, method, url, body, headers, retries, redirect, assert_same_host, timeout, pool_timeout, release_conn, chunked, body_pos, **response_kw)\u001b[0m\n\u001b[0;32m    704\u001b[0m                 \u001b[0mbody\u001b[0m\u001b[1;33m=\u001b[0m\u001b[0mbody\u001b[0m\u001b[1;33m,\u001b[0m\u001b[1;33m\u001b[0m\u001b[1;33m\u001b[0m\u001b[0m\n\u001b[0;32m    705\u001b[0m                 \u001b[0mheaders\u001b[0m\u001b[1;33m=\u001b[0m\u001b[0mheaders\u001b[0m\u001b[1;33m,\u001b[0m\u001b[1;33m\u001b[0m\u001b[1;33m\u001b[0m\u001b[0m\n\u001b[1;32m--> 706\u001b[1;33m                 \u001b[0mchunked\u001b[0m\u001b[1;33m=\u001b[0m\u001b[0mchunked\u001b[0m\u001b[1;33m,\u001b[0m\u001b[1;33m\u001b[0m\u001b[1;33m\u001b[0m\u001b[0m\n\u001b[0m\u001b[0;32m    707\u001b[0m             )\n\u001b[0;32m    708\u001b[0m \u001b[1;33m\u001b[0m\u001b[0m\n",
      "\u001b[1;32md:\\Users\\User\\Anaconda3\\lib\\site-packages\\urllib3\\connectionpool.py\u001b[0m in \u001b[0;36m_make_request\u001b[1;34m(self, conn, method, url, timeout, chunked, **httplib_request_kw)\u001b[0m\n\u001b[0;32m    443\u001b[0m                     \u001b[1;31m# Python 3 (including for exceptions like SystemExit).\u001b[0m\u001b[1;33m\u001b[0m\u001b[1;33m\u001b[0m\u001b[1;33m\u001b[0m\u001b[0m\n\u001b[0;32m    444\u001b[0m                     \u001b[1;31m# Otherwise it looks like a bug in the code.\u001b[0m\u001b[1;33m\u001b[0m\u001b[1;33m\u001b[0m\u001b[1;33m\u001b[0m\u001b[0m\n\u001b[1;32m--> 445\u001b[1;33m                     \u001b[0msix\u001b[0m\u001b[1;33m.\u001b[0m\u001b[0mraise_from\u001b[0m\u001b[1;33m(\u001b[0m\u001b[0me\u001b[0m\u001b[1;33m,\u001b[0m \u001b[1;32mNone\u001b[0m\u001b[1;33m)\u001b[0m\u001b[1;33m\u001b[0m\u001b[1;33m\u001b[0m\u001b[0m\n\u001b[0m\u001b[0;32m    446\u001b[0m         \u001b[1;32mexcept\u001b[0m \u001b[1;33m(\u001b[0m\u001b[0mSocketTimeout\u001b[0m\u001b[1;33m,\u001b[0m \u001b[0mBaseSSLError\u001b[0m\u001b[1;33m,\u001b[0m \u001b[0mSocketError\u001b[0m\u001b[1;33m)\u001b[0m \u001b[1;32mas\u001b[0m \u001b[0me\u001b[0m\u001b[1;33m:\u001b[0m\u001b[1;33m\u001b[0m\u001b[1;33m\u001b[0m\u001b[0m\n\u001b[0;32m    447\u001b[0m             \u001b[0mself\u001b[0m\u001b[1;33m.\u001b[0m\u001b[0m_raise_timeout\u001b[0m\u001b[1;33m(\u001b[0m\u001b[0merr\u001b[0m\u001b[1;33m=\u001b[0m\u001b[0me\u001b[0m\u001b[1;33m,\u001b[0m \u001b[0murl\u001b[0m\u001b[1;33m=\u001b[0m\u001b[0murl\u001b[0m\u001b[1;33m,\u001b[0m \u001b[0mtimeout_value\u001b[0m\u001b[1;33m=\u001b[0m\u001b[0mread_timeout\u001b[0m\u001b[1;33m)\u001b[0m\u001b[1;33m\u001b[0m\u001b[1;33m\u001b[0m\u001b[0m\n",
      "\u001b[1;32md:\\Users\\User\\Anaconda3\\lib\\site-packages\\urllib3\\packages\\six.py\u001b[0m in \u001b[0;36mraise_from\u001b[1;34m(value, from_value)\u001b[0m\n",
      "\u001b[1;32md:\\Users\\User\\Anaconda3\\lib\\site-packages\\urllib3\\connectionpool.py\u001b[0m in \u001b[0;36m_make_request\u001b[1;34m(self, conn, method, url, timeout, chunked, **httplib_request_kw)\u001b[0m\n\u001b[0;32m    438\u001b[0m                 \u001b[1;31m# Python 3\u001b[0m\u001b[1;33m\u001b[0m\u001b[1;33m\u001b[0m\u001b[1;33m\u001b[0m\u001b[0m\n\u001b[0;32m    439\u001b[0m                 \u001b[1;32mtry\u001b[0m\u001b[1;33m:\u001b[0m\u001b[1;33m\u001b[0m\u001b[1;33m\u001b[0m\u001b[0m\n\u001b[1;32m--> 440\u001b[1;33m                     \u001b[0mhttplib_response\u001b[0m \u001b[1;33m=\u001b[0m \u001b[0mconn\u001b[0m\u001b[1;33m.\u001b[0m\u001b[0mgetresponse\u001b[0m\u001b[1;33m(\u001b[0m\u001b[1;33m)\u001b[0m\u001b[1;33m\u001b[0m\u001b[1;33m\u001b[0m\u001b[0m\n\u001b[0m\u001b[0;32m    441\u001b[0m                 \u001b[1;32mexcept\u001b[0m \u001b[0mBaseException\u001b[0m \u001b[1;32mas\u001b[0m \u001b[0me\u001b[0m\u001b[1;33m:\u001b[0m\u001b[1;33m\u001b[0m\u001b[1;33m\u001b[0m\u001b[0m\n\u001b[0;32m    442\u001b[0m                     \u001b[1;31m# Remove the TypeError from the exception chain in\u001b[0m\u001b[1;33m\u001b[0m\u001b[1;33m\u001b[0m\u001b[1;33m\u001b[0m\u001b[0m\n",
      "\u001b[1;32md:\\Users\\User\\Anaconda3\\lib\\http\\client.py\u001b[0m in \u001b[0;36mgetresponse\u001b[1;34m(self)\u001b[0m\n\u001b[0;32m   1367\u001b[0m         \u001b[1;32mtry\u001b[0m\u001b[1;33m:\u001b[0m\u001b[1;33m\u001b[0m\u001b[1;33m\u001b[0m\u001b[0m\n\u001b[0;32m   1368\u001b[0m             \u001b[1;32mtry\u001b[0m\u001b[1;33m:\u001b[0m\u001b[1;33m\u001b[0m\u001b[1;33m\u001b[0m\u001b[0m\n\u001b[1;32m-> 1369\u001b[1;33m                 \u001b[0mresponse\u001b[0m\u001b[1;33m.\u001b[0m\u001b[0mbegin\u001b[0m\u001b[1;33m(\u001b[0m\u001b[1;33m)\u001b[0m\u001b[1;33m\u001b[0m\u001b[1;33m\u001b[0m\u001b[0m\n\u001b[0m\u001b[0;32m   1370\u001b[0m             \u001b[1;32mexcept\u001b[0m \u001b[0mConnectionError\u001b[0m\u001b[1;33m:\u001b[0m\u001b[1;33m\u001b[0m\u001b[1;33m\u001b[0m\u001b[0m\n\u001b[0;32m   1371\u001b[0m                 \u001b[0mself\u001b[0m\u001b[1;33m.\u001b[0m\u001b[0mclose\u001b[0m\u001b[1;33m(\u001b[0m\u001b[1;33m)\u001b[0m\u001b[1;33m\u001b[0m\u001b[1;33m\u001b[0m\u001b[0m\n",
      "\u001b[1;32md:\\Users\\User\\Anaconda3\\lib\\http\\client.py\u001b[0m in \u001b[0;36mbegin\u001b[1;34m(self)\u001b[0m\n\u001b[0;32m    308\u001b[0m         \u001b[1;31m# read until we get a non-100 response\u001b[0m\u001b[1;33m\u001b[0m\u001b[1;33m\u001b[0m\u001b[1;33m\u001b[0m\u001b[0m\n\u001b[0;32m    309\u001b[0m         \u001b[1;32mwhile\u001b[0m \u001b[1;32mTrue\u001b[0m\u001b[1;33m:\u001b[0m\u001b[1;33m\u001b[0m\u001b[1;33m\u001b[0m\u001b[0m\n\u001b[1;32m--> 310\u001b[1;33m             \u001b[0mversion\u001b[0m\u001b[1;33m,\u001b[0m \u001b[0mstatus\u001b[0m\u001b[1;33m,\u001b[0m \u001b[0mreason\u001b[0m \u001b[1;33m=\u001b[0m \u001b[0mself\u001b[0m\u001b[1;33m.\u001b[0m\u001b[0m_read_status\u001b[0m\u001b[1;33m(\u001b[0m\u001b[1;33m)\u001b[0m\u001b[1;33m\u001b[0m\u001b[1;33m\u001b[0m\u001b[0m\n\u001b[0m\u001b[0;32m    311\u001b[0m             \u001b[1;32mif\u001b[0m \u001b[0mstatus\u001b[0m \u001b[1;33m!=\u001b[0m \u001b[0mCONTINUE\u001b[0m\u001b[1;33m:\u001b[0m\u001b[1;33m\u001b[0m\u001b[1;33m\u001b[0m\u001b[0m\n\u001b[0;32m    312\u001b[0m                 \u001b[1;32mbreak\u001b[0m\u001b[1;33m\u001b[0m\u001b[1;33m\u001b[0m\u001b[0m\n",
      "\u001b[1;32md:\\Users\\User\\Anaconda3\\lib\\http\\client.py\u001b[0m in \u001b[0;36m_read_status\u001b[1;34m(self)\u001b[0m\n\u001b[0;32m    269\u001b[0m \u001b[1;33m\u001b[0m\u001b[0m\n\u001b[0;32m    270\u001b[0m     \u001b[1;32mdef\u001b[0m \u001b[0m_read_status\u001b[0m\u001b[1;33m(\u001b[0m\u001b[0mself\u001b[0m\u001b[1;33m)\u001b[0m\u001b[1;33m:\u001b[0m\u001b[1;33m\u001b[0m\u001b[1;33m\u001b[0m\u001b[0m\n\u001b[1;32m--> 271\u001b[1;33m         \u001b[0mline\u001b[0m \u001b[1;33m=\u001b[0m \u001b[0mstr\u001b[0m\u001b[1;33m(\u001b[0m\u001b[0mself\u001b[0m\u001b[1;33m.\u001b[0m\u001b[0mfp\u001b[0m\u001b[1;33m.\u001b[0m\u001b[0mreadline\u001b[0m\u001b[1;33m(\u001b[0m\u001b[0m_MAXLINE\u001b[0m \u001b[1;33m+\u001b[0m \u001b[1;36m1\u001b[0m\u001b[1;33m)\u001b[0m\u001b[1;33m,\u001b[0m \u001b[1;34m\"iso-8859-1\"\u001b[0m\u001b[1;33m)\u001b[0m\u001b[1;33m\u001b[0m\u001b[1;33m\u001b[0m\u001b[0m\n\u001b[0m\u001b[0;32m    272\u001b[0m         \u001b[1;32mif\u001b[0m \u001b[0mlen\u001b[0m\u001b[1;33m(\u001b[0m\u001b[0mline\u001b[0m\u001b[1;33m)\u001b[0m \u001b[1;33m>\u001b[0m \u001b[0m_MAXLINE\u001b[0m\u001b[1;33m:\u001b[0m\u001b[1;33m\u001b[0m\u001b[1;33m\u001b[0m\u001b[0m\n\u001b[0;32m    273\u001b[0m             \u001b[1;32mraise\u001b[0m \u001b[0mLineTooLong\u001b[0m\u001b[1;33m(\u001b[0m\u001b[1;34m\"status line\"\u001b[0m\u001b[1;33m)\u001b[0m\u001b[1;33m\u001b[0m\u001b[1;33m\u001b[0m\u001b[0m\n",
      "\u001b[1;32md:\\Users\\User\\Anaconda3\\lib\\socket.py\u001b[0m in \u001b[0;36mreadinto\u001b[1;34m(self, b)\u001b[0m\n\u001b[0;32m    587\u001b[0m         \u001b[1;32mwhile\u001b[0m \u001b[1;32mTrue\u001b[0m\u001b[1;33m:\u001b[0m\u001b[1;33m\u001b[0m\u001b[1;33m\u001b[0m\u001b[0m\n\u001b[0;32m    588\u001b[0m             \u001b[1;32mtry\u001b[0m\u001b[1;33m:\u001b[0m\u001b[1;33m\u001b[0m\u001b[1;33m\u001b[0m\u001b[0m\n\u001b[1;32m--> 589\u001b[1;33m                 \u001b[1;32mreturn\u001b[0m \u001b[0mself\u001b[0m\u001b[1;33m.\u001b[0m\u001b[0m_sock\u001b[0m\u001b[1;33m.\u001b[0m\u001b[0mrecv_into\u001b[0m\u001b[1;33m(\u001b[0m\u001b[0mb\u001b[0m\u001b[1;33m)\u001b[0m\u001b[1;33m\u001b[0m\u001b[1;33m\u001b[0m\u001b[0m\n\u001b[0m\u001b[0;32m    590\u001b[0m             \u001b[1;32mexcept\u001b[0m \u001b[0mtimeout\u001b[0m\u001b[1;33m:\u001b[0m\u001b[1;33m\u001b[0m\u001b[1;33m\u001b[0m\u001b[0m\n\u001b[0;32m    591\u001b[0m                 \u001b[0mself\u001b[0m\u001b[1;33m.\u001b[0m\u001b[0m_timeout_occurred\u001b[0m \u001b[1;33m=\u001b[0m \u001b[1;32mTrue\u001b[0m\u001b[1;33m\u001b[0m\u001b[1;33m\u001b[0m\u001b[0m\n",
      "\u001b[1;32md:\\Users\\User\\Anaconda3\\lib\\ssl.py\u001b[0m in \u001b[0;36mrecv_into\u001b[1;34m(self, buffer, nbytes, flags)\u001b[0m\n\u001b[0;32m   1069\u001b[0m                   \u001b[1;34m\"non-zero flags not allowed in calls to recv_into() on %s\"\u001b[0m \u001b[1;33m%\u001b[0m\u001b[1;33m\u001b[0m\u001b[1;33m\u001b[0m\u001b[0m\n\u001b[0;32m   1070\u001b[0m                   self.__class__)\n\u001b[1;32m-> 1071\u001b[1;33m             \u001b[1;32mreturn\u001b[0m \u001b[0mself\u001b[0m\u001b[1;33m.\u001b[0m\u001b[0mread\u001b[0m\u001b[1;33m(\u001b[0m\u001b[0mnbytes\u001b[0m\u001b[1;33m,\u001b[0m \u001b[0mbuffer\u001b[0m\u001b[1;33m)\u001b[0m\u001b[1;33m\u001b[0m\u001b[1;33m\u001b[0m\u001b[0m\n\u001b[0m\u001b[0;32m   1072\u001b[0m         \u001b[1;32melse\u001b[0m\u001b[1;33m:\u001b[0m\u001b[1;33m\u001b[0m\u001b[1;33m\u001b[0m\u001b[0m\n\u001b[0;32m   1073\u001b[0m             \u001b[1;32mreturn\u001b[0m \u001b[0msuper\u001b[0m\u001b[1;33m(\u001b[0m\u001b[1;33m)\u001b[0m\u001b[1;33m.\u001b[0m\u001b[0mrecv_into\u001b[0m\u001b[1;33m(\u001b[0m\u001b[0mbuffer\u001b[0m\u001b[1;33m,\u001b[0m \u001b[0mnbytes\u001b[0m\u001b[1;33m,\u001b[0m \u001b[0mflags\u001b[0m\u001b[1;33m)\u001b[0m\u001b[1;33m\u001b[0m\u001b[1;33m\u001b[0m\u001b[0m\n",
      "\u001b[1;32md:\\Users\\User\\Anaconda3\\lib\\ssl.py\u001b[0m in \u001b[0;36mread\u001b[1;34m(self, len, buffer)\u001b[0m\n\u001b[0;32m    927\u001b[0m         \u001b[1;32mtry\u001b[0m\u001b[1;33m:\u001b[0m\u001b[1;33m\u001b[0m\u001b[1;33m\u001b[0m\u001b[0m\n\u001b[0;32m    928\u001b[0m             \u001b[1;32mif\u001b[0m \u001b[0mbuffer\u001b[0m \u001b[1;32mis\u001b[0m \u001b[1;32mnot\u001b[0m \u001b[1;32mNone\u001b[0m\u001b[1;33m:\u001b[0m\u001b[1;33m\u001b[0m\u001b[1;33m\u001b[0m\u001b[0m\n\u001b[1;32m--> 929\u001b[1;33m                 \u001b[1;32mreturn\u001b[0m \u001b[0mself\u001b[0m\u001b[1;33m.\u001b[0m\u001b[0m_sslobj\u001b[0m\u001b[1;33m.\u001b[0m\u001b[0mread\u001b[0m\u001b[1;33m(\u001b[0m\u001b[0mlen\u001b[0m\u001b[1;33m,\u001b[0m \u001b[0mbuffer\u001b[0m\u001b[1;33m)\u001b[0m\u001b[1;33m\u001b[0m\u001b[1;33m\u001b[0m\u001b[0m\n\u001b[0m\u001b[0;32m    930\u001b[0m             \u001b[1;32melse\u001b[0m\u001b[1;33m:\u001b[0m\u001b[1;33m\u001b[0m\u001b[1;33m\u001b[0m\u001b[0m\n\u001b[0;32m    931\u001b[0m                 \u001b[1;32mreturn\u001b[0m \u001b[0mself\u001b[0m\u001b[1;33m.\u001b[0m\u001b[0m_sslobj\u001b[0m\u001b[1;33m.\u001b[0m\u001b[0mread\u001b[0m\u001b[1;33m(\u001b[0m\u001b[0mlen\u001b[0m\u001b[1;33m)\u001b[0m\u001b[1;33m\u001b[0m\u001b[1;33m\u001b[0m\u001b[0m\n",
      "\u001b[1;31mKeyboardInterrupt\u001b[0m: "
     ]
    }
   ],
   "source": [
    "#testing to see information\n",
    "#329070 spy party is able to get all, meanwhile\n",
    "#960090 bloons td cant\n",
    "\n",
    "#if info does not come out, delete the idprocessed file\n",
    "steamreviews.download_reviews_for_app_id_batch()"
   ]
  },
  {
   "cell_type": "code",
   "execution_count": 2,
   "metadata": {},
   "outputs": [
    {
     "name": "stdout",
     "output_type": "stream",
     "text": [
      "1089\n",
      "<class 'int'>\n"
     ]
    }
   ],
   "source": [
    "#SCRAPE THROUGH API\n",
    "#source : https://stackoverflow.com/questions/71415099/cant-download-the-whole-set-of-reviews-from-steam\n",
    "from datetime import date\n",
    "\n",
    "d0 = date(2020,1,1) #start date to collect data\n",
    "d1 = date.today()\n",
    "delta = d1 - d0\n",
    "\n",
    "print(delta.days)\n",
    "print(type(delta.days))\n",
    "\n",
    "import requests\n",
    "\n",
    "def get_reviews(appid, params={'json':1}):\n",
    "        url = 'https://store.steampowered.com/appreviews/'\n",
    "        response = requests.get(url=url+appid, params=params, headers={'User-Agent': 'Mozilla/5.0'})\n",
    "        return response.json()\n",
    "    \n",
    "def get_n_reviews(appid, n):\n",
    "    reviews = []\n",
    "    cursor = '*'\n",
    "    params = {\n",
    "            'json' : 1,\n",
    "            'filter' : 'recent',\n",
    "            #'day_range' : 9223372036854775807, #download from day 0, number of days ago meaning i need to determine how many days ago to 1st Jan 2021\n",
    "            'day_range' : delta.days, #collect data from 1/1/2020\n",
    "            'review_type' : 'all',\n",
    "            'language' : 'english',\n",
    "            'purchase_type' : 'all'\n",
    "            }\n",
    "\n",
    "    while n > 0:\n",
    "        params['cursor'] = cursor.encode()\n",
    "        params['num_per_page'] = 100\n",
    "        n -= 100\n",
    "\n",
    "        response = get_reviews(str(appid), params)\n",
    "        cursor = response['cursor']\n",
    "        reviews += response['reviews']\n",
    "\n",
    "        if len(response['reviews']) < 100: break\n",
    "\n",
    "    return reviews"
   ]
  },
  {
   "cell_type": "code",
   "execution_count": 12,
   "metadata": {},
   "outputs": [],
   "source": [
    "#EDIT AND USE THIS CODE TO COLLECT DATA FROM 1/1/2020 and 31/12/2020 AND BEFORE INSERTING TO EXCEL\n",
    "#this code does not have a json file, but uses a dictionary format <- need to be updated in report\n",
    "#https://www.youtube.com/watch?v=zE2fgO3ue00\n",
    "# https://www.youtube.com/watch?v=aFpJo6HKnyU&t=2s\n",
    "\n",
    "#Function : Get the reviews \n",
    "\n",
    "def getReview(appID,numReview,gameName):\n",
    "    json_data  = get_n_reviews(appID,numReview)\n",
    "\n",
    "    import xlwt\n",
    "    from xlwt import Workbook\n",
    "\n",
    "    wb = Workbook()\n",
    "\n",
    "    sheet1 = wb.add_sheet('Sheet 1')\n",
    "\n",
    "    sheet1.write(0,0,\"review\")\n",
    "    sheet1.write(0,1,\"sentiment\")\n",
    "    sheet1.write(0,2,\"score\")\n",
    "    sheet1.write(0,3,\"time\")\n",
    "\n",
    "    row = 0\n",
    "    countReview = 0\n",
    "    #GET RAW DATA , INSERT , AND SAVE TO EXCEL FILE SIMULTANEOUSLY\n",
    "    for record in json_data:\n",
    "        if record[\"timestamp_created\"] >= 1577840461 and record[\"timestamp_created\"] <= 1609419599 : #timestamp between 1/1/2020 and 31/12/2020\n",
    "                row += 1\n",
    "                sheet1.write(row,0,record[\"review\"])\n",
    "                sheet1.write(row,1,record[\"voted_up\"])\n",
    "                sheet1.write(row,2,record[\"weighted_vote_score\"])\n",
    "                sheet1.write(row,3,record[\"timestamp_created\"])\n",
    "                countReview += 1\n",
    "                \n",
    "    print(\"Number of reviews\" , gameName , \"obtained:\" , countReview)\n",
    "\n",
    "    saveFile = gameName + \".xlsx\"\n",
    "    wb.save(saveFile)\n",
    "\n",
    "    return countReview\n"
   ]
  },
  {
   "cell_type": "code",
   "execution_count": 11,
   "metadata": {},
   "outputs": [],
   "source": [
    "#Game information\n",
    "appID = 281990\n",
    "numReview = 140240#get this value from steamreview function"
   ]
  },
  {
   "cell_type": "code",
   "execution_count": 7,
   "metadata": {},
   "outputs": [],
   "source": [
    "gameName = \"Stellaris\""
   ]
  },
  {
   "cell_type": "code",
   "execution_count": 15,
   "metadata": {},
   "outputs": [
    {
     "ename": "KeyboardInterrupt",
     "evalue": "",
     "output_type": "error",
     "traceback": [
      "\u001b[1;31m---------------------------------------------------------------------------\u001b[0m",
      "\u001b[1;31mKeyboardInterrupt\u001b[0m                         Traceback (most recent call last)",
      "\u001b[1;32m~\\AppData\\Local\\Temp/ipykernel_22608/3578917828.py\u001b[0m in \u001b[0;36m<module>\u001b[1;34m\u001b[0m\n\u001b[0;32m      1\u001b[0m \u001b[1;31m#Run this one at a time\u001b[0m\u001b[1;33m\u001b[0m\u001b[1;33m\u001b[0m\u001b[1;33m\u001b[0m\u001b[0m\n\u001b[1;32m----> 2\u001b[1;33m \u001b[0mreviewObtained\u001b[0m \u001b[1;33m=\u001b[0m \u001b[0mgetReview\u001b[0m\u001b[1;33m(\u001b[0m\u001b[0mappID\u001b[0m\u001b[1;33m,\u001b[0m\u001b[0mnumReview\u001b[0m\u001b[1;33m,\u001b[0m\u001b[0mgameName\u001b[0m\u001b[1;33m)\u001b[0m\u001b[1;33m\u001b[0m\u001b[1;33m\u001b[0m\u001b[0m\n\u001b[0m",
      "\u001b[1;32m~\\AppData\\Local\\Temp/ipykernel_22608/2367480582.py\u001b[0m in \u001b[0;36mgetReview\u001b[1;34m(appID, numReview, gameName)\u001b[0m\n\u001b[0;32m      7\u001b[0m \u001b[1;33m\u001b[0m\u001b[0m\n\u001b[0;32m      8\u001b[0m \u001b[1;32mdef\u001b[0m \u001b[0mgetReview\u001b[0m\u001b[1;33m(\u001b[0m\u001b[0mappID\u001b[0m\u001b[1;33m,\u001b[0m\u001b[0mnumReview\u001b[0m\u001b[1;33m,\u001b[0m\u001b[0mgameName\u001b[0m\u001b[1;33m)\u001b[0m\u001b[1;33m:\u001b[0m\u001b[1;33m\u001b[0m\u001b[1;33m\u001b[0m\u001b[0m\n\u001b[1;32m----> 9\u001b[1;33m     \u001b[0mjson_data\u001b[0m  \u001b[1;33m=\u001b[0m \u001b[0mget_n_reviews\u001b[0m\u001b[1;33m(\u001b[0m\u001b[0mappID\u001b[0m\u001b[1;33m,\u001b[0m\u001b[0mnumReview\u001b[0m\u001b[1;33m)\u001b[0m\u001b[1;33m\u001b[0m\u001b[1;33m\u001b[0m\u001b[0m\n\u001b[0m\u001b[0;32m     10\u001b[0m \u001b[1;33m\u001b[0m\u001b[0m\n\u001b[0;32m     11\u001b[0m     \u001b[1;32mimport\u001b[0m \u001b[0mxlwt\u001b[0m\u001b[1;33m\u001b[0m\u001b[1;33m\u001b[0m\u001b[0m\n",
      "\u001b[1;32m~\\AppData\\Local\\Temp/ipykernel_22608/1715288043.py\u001b[0m in \u001b[0;36mget_n_reviews\u001b[1;34m(appid, n)\u001b[0m\n\u001b[0;32m     35\u001b[0m         \u001b[0mn\u001b[0m \u001b[1;33m-=\u001b[0m \u001b[1;36m100\u001b[0m\u001b[1;33m\u001b[0m\u001b[1;33m\u001b[0m\u001b[0m\n\u001b[0;32m     36\u001b[0m \u001b[1;33m\u001b[0m\u001b[0m\n\u001b[1;32m---> 37\u001b[1;33m         \u001b[0mresponse\u001b[0m \u001b[1;33m=\u001b[0m \u001b[0mget_reviews\u001b[0m\u001b[1;33m(\u001b[0m\u001b[0mstr\u001b[0m\u001b[1;33m(\u001b[0m\u001b[0mappid\u001b[0m\u001b[1;33m)\u001b[0m\u001b[1;33m,\u001b[0m \u001b[0mparams\u001b[0m\u001b[1;33m)\u001b[0m\u001b[1;33m\u001b[0m\u001b[1;33m\u001b[0m\u001b[0m\n\u001b[0m\u001b[0;32m     38\u001b[0m         \u001b[0mcursor\u001b[0m \u001b[1;33m=\u001b[0m \u001b[0mresponse\u001b[0m\u001b[1;33m[\u001b[0m\u001b[1;34m'cursor'\u001b[0m\u001b[1;33m]\u001b[0m\u001b[1;33m\u001b[0m\u001b[1;33m\u001b[0m\u001b[0m\n\u001b[0;32m     39\u001b[0m         \u001b[0mreviews\u001b[0m \u001b[1;33m+=\u001b[0m \u001b[0mresponse\u001b[0m\u001b[1;33m[\u001b[0m\u001b[1;34m'reviews'\u001b[0m\u001b[1;33m]\u001b[0m\u001b[1;33m\u001b[0m\u001b[1;33m\u001b[0m\u001b[0m\n",
      "\u001b[1;32m~\\AppData\\Local\\Temp/ipykernel_22608/1715288043.py\u001b[0m in \u001b[0;36mget_reviews\u001b[1;34m(appid, params)\u001b[0m\n\u001b[0;32m     14\u001b[0m \u001b[1;32mdef\u001b[0m \u001b[0mget_reviews\u001b[0m\u001b[1;33m(\u001b[0m\u001b[0mappid\u001b[0m\u001b[1;33m,\u001b[0m \u001b[0mparams\u001b[0m\u001b[1;33m=\u001b[0m\u001b[1;33m{\u001b[0m\u001b[1;34m'json'\u001b[0m\u001b[1;33m:\u001b[0m\u001b[1;36m1\u001b[0m\u001b[1;33m}\u001b[0m\u001b[1;33m)\u001b[0m\u001b[1;33m:\u001b[0m\u001b[1;33m\u001b[0m\u001b[1;33m\u001b[0m\u001b[0m\n\u001b[0;32m     15\u001b[0m         \u001b[0murl\u001b[0m \u001b[1;33m=\u001b[0m \u001b[1;34m'https://store.steampowered.com/appreviews/'\u001b[0m\u001b[1;33m\u001b[0m\u001b[1;33m\u001b[0m\u001b[0m\n\u001b[1;32m---> 16\u001b[1;33m         \u001b[0mresponse\u001b[0m \u001b[1;33m=\u001b[0m \u001b[0mrequests\u001b[0m\u001b[1;33m.\u001b[0m\u001b[0mget\u001b[0m\u001b[1;33m(\u001b[0m\u001b[0murl\u001b[0m\u001b[1;33m=\u001b[0m\u001b[0murl\u001b[0m\u001b[1;33m+\u001b[0m\u001b[0mappid\u001b[0m\u001b[1;33m,\u001b[0m \u001b[0mparams\u001b[0m\u001b[1;33m=\u001b[0m\u001b[0mparams\u001b[0m\u001b[1;33m,\u001b[0m \u001b[0mheaders\u001b[0m\u001b[1;33m=\u001b[0m\u001b[1;33m{\u001b[0m\u001b[1;34m'User-Agent'\u001b[0m\u001b[1;33m:\u001b[0m \u001b[1;34m'Mozilla/5.0'\u001b[0m\u001b[1;33m}\u001b[0m\u001b[1;33m)\u001b[0m\u001b[1;33m\u001b[0m\u001b[1;33m\u001b[0m\u001b[0m\n\u001b[0m\u001b[0;32m     17\u001b[0m         \u001b[1;32mreturn\u001b[0m \u001b[0mresponse\u001b[0m\u001b[1;33m.\u001b[0m\u001b[0mjson\u001b[0m\u001b[1;33m(\u001b[0m\u001b[1;33m)\u001b[0m\u001b[1;33m\u001b[0m\u001b[1;33m\u001b[0m\u001b[0m\n\u001b[0;32m     18\u001b[0m \u001b[1;33m\u001b[0m\u001b[0m\n",
      "\u001b[1;32md:\\Users\\User\\Anaconda3\\lib\\site-packages\\requests\\api.py\u001b[0m in \u001b[0;36mget\u001b[1;34m(url, params, **kwargs)\u001b[0m\n\u001b[0;32m     74\u001b[0m \u001b[1;33m\u001b[0m\u001b[0m\n\u001b[0;32m     75\u001b[0m     \u001b[0mkwargs\u001b[0m\u001b[1;33m.\u001b[0m\u001b[0msetdefault\u001b[0m\u001b[1;33m(\u001b[0m\u001b[1;34m'allow_redirects'\u001b[0m\u001b[1;33m,\u001b[0m \u001b[1;32mTrue\u001b[0m\u001b[1;33m)\u001b[0m\u001b[1;33m\u001b[0m\u001b[1;33m\u001b[0m\u001b[0m\n\u001b[1;32m---> 76\u001b[1;33m     \u001b[1;32mreturn\u001b[0m \u001b[0mrequest\u001b[0m\u001b[1;33m(\u001b[0m\u001b[1;34m'get'\u001b[0m\u001b[1;33m,\u001b[0m \u001b[0murl\u001b[0m\u001b[1;33m,\u001b[0m \u001b[0mparams\u001b[0m\u001b[1;33m=\u001b[0m\u001b[0mparams\u001b[0m\u001b[1;33m,\u001b[0m \u001b[1;33m**\u001b[0m\u001b[0mkwargs\u001b[0m\u001b[1;33m)\u001b[0m\u001b[1;33m\u001b[0m\u001b[1;33m\u001b[0m\u001b[0m\n\u001b[0m\u001b[0;32m     77\u001b[0m \u001b[1;33m\u001b[0m\u001b[0m\n\u001b[0;32m     78\u001b[0m \u001b[1;33m\u001b[0m\u001b[0m\n",
      "\u001b[1;32md:\\Users\\User\\Anaconda3\\lib\\site-packages\\requests\\api.py\u001b[0m in \u001b[0;36mrequest\u001b[1;34m(method, url, **kwargs)\u001b[0m\n\u001b[0;32m     59\u001b[0m     \u001b[1;31m# cases, and look like a memory leak in others.\u001b[0m\u001b[1;33m\u001b[0m\u001b[1;33m\u001b[0m\u001b[1;33m\u001b[0m\u001b[0m\n\u001b[0;32m     60\u001b[0m     \u001b[1;32mwith\u001b[0m \u001b[0msessions\u001b[0m\u001b[1;33m.\u001b[0m\u001b[0mSession\u001b[0m\u001b[1;33m(\u001b[0m\u001b[1;33m)\u001b[0m \u001b[1;32mas\u001b[0m \u001b[0msession\u001b[0m\u001b[1;33m:\u001b[0m\u001b[1;33m\u001b[0m\u001b[1;33m\u001b[0m\u001b[0m\n\u001b[1;32m---> 61\u001b[1;33m         \u001b[1;32mreturn\u001b[0m \u001b[0msession\u001b[0m\u001b[1;33m.\u001b[0m\u001b[0mrequest\u001b[0m\u001b[1;33m(\u001b[0m\u001b[0mmethod\u001b[0m\u001b[1;33m=\u001b[0m\u001b[0mmethod\u001b[0m\u001b[1;33m,\u001b[0m \u001b[0murl\u001b[0m\u001b[1;33m=\u001b[0m\u001b[0murl\u001b[0m\u001b[1;33m,\u001b[0m \u001b[1;33m**\u001b[0m\u001b[0mkwargs\u001b[0m\u001b[1;33m)\u001b[0m\u001b[1;33m\u001b[0m\u001b[1;33m\u001b[0m\u001b[0m\n\u001b[0m\u001b[0;32m     62\u001b[0m \u001b[1;33m\u001b[0m\u001b[0m\n\u001b[0;32m     63\u001b[0m \u001b[1;33m\u001b[0m\u001b[0m\n",
      "\u001b[1;32md:\\Users\\User\\Anaconda3\\lib\\site-packages\\requests\\sessions.py\u001b[0m in \u001b[0;36mrequest\u001b[1;34m(self, method, url, params, data, headers, cookies, files, auth, timeout, allow_redirects, proxies, hooks, stream, verify, cert, json)\u001b[0m\n\u001b[0;32m    540\u001b[0m         }\n\u001b[0;32m    541\u001b[0m         \u001b[0msend_kwargs\u001b[0m\u001b[1;33m.\u001b[0m\u001b[0mupdate\u001b[0m\u001b[1;33m(\u001b[0m\u001b[0msettings\u001b[0m\u001b[1;33m)\u001b[0m\u001b[1;33m\u001b[0m\u001b[1;33m\u001b[0m\u001b[0m\n\u001b[1;32m--> 542\u001b[1;33m         \u001b[0mresp\u001b[0m \u001b[1;33m=\u001b[0m \u001b[0mself\u001b[0m\u001b[1;33m.\u001b[0m\u001b[0msend\u001b[0m\u001b[1;33m(\u001b[0m\u001b[0mprep\u001b[0m\u001b[1;33m,\u001b[0m \u001b[1;33m**\u001b[0m\u001b[0msend_kwargs\u001b[0m\u001b[1;33m)\u001b[0m\u001b[1;33m\u001b[0m\u001b[1;33m\u001b[0m\u001b[0m\n\u001b[0m\u001b[0;32m    543\u001b[0m \u001b[1;33m\u001b[0m\u001b[0m\n\u001b[0;32m    544\u001b[0m         \u001b[1;32mreturn\u001b[0m \u001b[0mresp\u001b[0m\u001b[1;33m\u001b[0m\u001b[1;33m\u001b[0m\u001b[0m\n",
      "\u001b[1;32md:\\Users\\User\\Anaconda3\\lib\\site-packages\\requests\\sessions.py\u001b[0m in \u001b[0;36msend\u001b[1;34m(self, request, **kwargs)\u001b[0m\n\u001b[0;32m    653\u001b[0m \u001b[1;33m\u001b[0m\u001b[0m\n\u001b[0;32m    654\u001b[0m         \u001b[1;31m# Send the request\u001b[0m\u001b[1;33m\u001b[0m\u001b[1;33m\u001b[0m\u001b[1;33m\u001b[0m\u001b[0m\n\u001b[1;32m--> 655\u001b[1;33m         \u001b[0mr\u001b[0m \u001b[1;33m=\u001b[0m \u001b[0madapter\u001b[0m\u001b[1;33m.\u001b[0m\u001b[0msend\u001b[0m\u001b[1;33m(\u001b[0m\u001b[0mrequest\u001b[0m\u001b[1;33m,\u001b[0m \u001b[1;33m**\u001b[0m\u001b[0mkwargs\u001b[0m\u001b[1;33m)\u001b[0m\u001b[1;33m\u001b[0m\u001b[1;33m\u001b[0m\u001b[0m\n\u001b[0m\u001b[0;32m    656\u001b[0m \u001b[1;33m\u001b[0m\u001b[0m\n\u001b[0;32m    657\u001b[0m         \u001b[1;31m# Total elapsed time of the request (approximately)\u001b[0m\u001b[1;33m\u001b[0m\u001b[1;33m\u001b[0m\u001b[1;33m\u001b[0m\u001b[0m\n",
      "\u001b[1;32md:\\Users\\User\\Anaconda3\\lib\\site-packages\\requests\\adapters.py\u001b[0m in \u001b[0;36msend\u001b[1;34m(self, request, stream, timeout, verify, cert, proxies)\u001b[0m\n\u001b[0;32m    447\u001b[0m                     \u001b[0mdecode_content\u001b[0m\u001b[1;33m=\u001b[0m\u001b[1;32mFalse\u001b[0m\u001b[1;33m,\u001b[0m\u001b[1;33m\u001b[0m\u001b[1;33m\u001b[0m\u001b[0m\n\u001b[0;32m    448\u001b[0m                     \u001b[0mretries\u001b[0m\u001b[1;33m=\u001b[0m\u001b[0mself\u001b[0m\u001b[1;33m.\u001b[0m\u001b[0mmax_retries\u001b[0m\u001b[1;33m,\u001b[0m\u001b[1;33m\u001b[0m\u001b[1;33m\u001b[0m\u001b[0m\n\u001b[1;32m--> 449\u001b[1;33m                     \u001b[0mtimeout\u001b[0m\u001b[1;33m=\u001b[0m\u001b[0mtimeout\u001b[0m\u001b[1;33m\u001b[0m\u001b[1;33m\u001b[0m\u001b[0m\n\u001b[0m\u001b[0;32m    450\u001b[0m                 )\n\u001b[0;32m    451\u001b[0m \u001b[1;33m\u001b[0m\u001b[0m\n",
      "\u001b[1;32md:\\Users\\User\\Anaconda3\\lib\\site-packages\\urllib3\\connectionpool.py\u001b[0m in \u001b[0;36murlopen\u001b[1;34m(self, method, url, body, headers, retries, redirect, assert_same_host, timeout, pool_timeout, release_conn, chunked, body_pos, **response_kw)\u001b[0m\n\u001b[0;32m    704\u001b[0m                 \u001b[0mbody\u001b[0m\u001b[1;33m=\u001b[0m\u001b[0mbody\u001b[0m\u001b[1;33m,\u001b[0m\u001b[1;33m\u001b[0m\u001b[1;33m\u001b[0m\u001b[0m\n\u001b[0;32m    705\u001b[0m                 \u001b[0mheaders\u001b[0m\u001b[1;33m=\u001b[0m\u001b[0mheaders\u001b[0m\u001b[1;33m,\u001b[0m\u001b[1;33m\u001b[0m\u001b[1;33m\u001b[0m\u001b[0m\n\u001b[1;32m--> 706\u001b[1;33m                 \u001b[0mchunked\u001b[0m\u001b[1;33m=\u001b[0m\u001b[0mchunked\u001b[0m\u001b[1;33m,\u001b[0m\u001b[1;33m\u001b[0m\u001b[1;33m\u001b[0m\u001b[0m\n\u001b[0m\u001b[0;32m    707\u001b[0m             )\n\u001b[0;32m    708\u001b[0m \u001b[1;33m\u001b[0m\u001b[0m\n",
      "\u001b[1;32md:\\Users\\User\\Anaconda3\\lib\\site-packages\\urllib3\\connectionpool.py\u001b[0m in \u001b[0;36m_make_request\u001b[1;34m(self, conn, method, url, timeout, chunked, **httplib_request_kw)\u001b[0m\n\u001b[0;32m    443\u001b[0m                     \u001b[1;31m# Python 3 (including for exceptions like SystemExit).\u001b[0m\u001b[1;33m\u001b[0m\u001b[1;33m\u001b[0m\u001b[1;33m\u001b[0m\u001b[0m\n\u001b[0;32m    444\u001b[0m                     \u001b[1;31m# Otherwise it looks like a bug in the code.\u001b[0m\u001b[1;33m\u001b[0m\u001b[1;33m\u001b[0m\u001b[1;33m\u001b[0m\u001b[0m\n\u001b[1;32m--> 445\u001b[1;33m                     \u001b[0msix\u001b[0m\u001b[1;33m.\u001b[0m\u001b[0mraise_from\u001b[0m\u001b[1;33m(\u001b[0m\u001b[0me\u001b[0m\u001b[1;33m,\u001b[0m \u001b[1;32mNone\u001b[0m\u001b[1;33m)\u001b[0m\u001b[1;33m\u001b[0m\u001b[1;33m\u001b[0m\u001b[0m\n\u001b[0m\u001b[0;32m    446\u001b[0m         \u001b[1;32mexcept\u001b[0m \u001b[1;33m(\u001b[0m\u001b[0mSocketTimeout\u001b[0m\u001b[1;33m,\u001b[0m \u001b[0mBaseSSLError\u001b[0m\u001b[1;33m,\u001b[0m \u001b[0mSocketError\u001b[0m\u001b[1;33m)\u001b[0m \u001b[1;32mas\u001b[0m \u001b[0me\u001b[0m\u001b[1;33m:\u001b[0m\u001b[1;33m\u001b[0m\u001b[1;33m\u001b[0m\u001b[0m\n\u001b[0;32m    447\u001b[0m             \u001b[0mself\u001b[0m\u001b[1;33m.\u001b[0m\u001b[0m_raise_timeout\u001b[0m\u001b[1;33m(\u001b[0m\u001b[0merr\u001b[0m\u001b[1;33m=\u001b[0m\u001b[0me\u001b[0m\u001b[1;33m,\u001b[0m \u001b[0murl\u001b[0m\u001b[1;33m=\u001b[0m\u001b[0murl\u001b[0m\u001b[1;33m,\u001b[0m \u001b[0mtimeout_value\u001b[0m\u001b[1;33m=\u001b[0m\u001b[0mread_timeout\u001b[0m\u001b[1;33m)\u001b[0m\u001b[1;33m\u001b[0m\u001b[1;33m\u001b[0m\u001b[0m\n",
      "\u001b[1;32md:\\Users\\User\\Anaconda3\\lib\\site-packages\\urllib3\\packages\\six.py\u001b[0m in \u001b[0;36mraise_from\u001b[1;34m(value, from_value)\u001b[0m\n",
      "\u001b[1;32md:\\Users\\User\\Anaconda3\\lib\\site-packages\\urllib3\\connectionpool.py\u001b[0m in \u001b[0;36m_make_request\u001b[1;34m(self, conn, method, url, timeout, chunked, **httplib_request_kw)\u001b[0m\n\u001b[0;32m    438\u001b[0m                 \u001b[1;31m# Python 3\u001b[0m\u001b[1;33m\u001b[0m\u001b[1;33m\u001b[0m\u001b[1;33m\u001b[0m\u001b[0m\n\u001b[0;32m    439\u001b[0m                 \u001b[1;32mtry\u001b[0m\u001b[1;33m:\u001b[0m\u001b[1;33m\u001b[0m\u001b[1;33m\u001b[0m\u001b[0m\n\u001b[1;32m--> 440\u001b[1;33m                     \u001b[0mhttplib_response\u001b[0m \u001b[1;33m=\u001b[0m \u001b[0mconn\u001b[0m\u001b[1;33m.\u001b[0m\u001b[0mgetresponse\u001b[0m\u001b[1;33m(\u001b[0m\u001b[1;33m)\u001b[0m\u001b[1;33m\u001b[0m\u001b[1;33m\u001b[0m\u001b[0m\n\u001b[0m\u001b[0;32m    441\u001b[0m                 \u001b[1;32mexcept\u001b[0m \u001b[0mBaseException\u001b[0m \u001b[1;32mas\u001b[0m \u001b[0me\u001b[0m\u001b[1;33m:\u001b[0m\u001b[1;33m\u001b[0m\u001b[1;33m\u001b[0m\u001b[0m\n\u001b[0;32m    442\u001b[0m                     \u001b[1;31m# Remove the TypeError from the exception chain in\u001b[0m\u001b[1;33m\u001b[0m\u001b[1;33m\u001b[0m\u001b[1;33m\u001b[0m\u001b[0m\n",
      "\u001b[1;32md:\\Users\\User\\Anaconda3\\lib\\http\\client.py\u001b[0m in \u001b[0;36mgetresponse\u001b[1;34m(self)\u001b[0m\n\u001b[0;32m   1367\u001b[0m         \u001b[1;32mtry\u001b[0m\u001b[1;33m:\u001b[0m\u001b[1;33m\u001b[0m\u001b[1;33m\u001b[0m\u001b[0m\n\u001b[0;32m   1368\u001b[0m             \u001b[1;32mtry\u001b[0m\u001b[1;33m:\u001b[0m\u001b[1;33m\u001b[0m\u001b[1;33m\u001b[0m\u001b[0m\n\u001b[1;32m-> 1369\u001b[1;33m                 \u001b[0mresponse\u001b[0m\u001b[1;33m.\u001b[0m\u001b[0mbegin\u001b[0m\u001b[1;33m(\u001b[0m\u001b[1;33m)\u001b[0m\u001b[1;33m\u001b[0m\u001b[1;33m\u001b[0m\u001b[0m\n\u001b[0m\u001b[0;32m   1370\u001b[0m             \u001b[1;32mexcept\u001b[0m \u001b[0mConnectionError\u001b[0m\u001b[1;33m:\u001b[0m\u001b[1;33m\u001b[0m\u001b[1;33m\u001b[0m\u001b[0m\n\u001b[0;32m   1371\u001b[0m                 \u001b[0mself\u001b[0m\u001b[1;33m.\u001b[0m\u001b[0mclose\u001b[0m\u001b[1;33m(\u001b[0m\u001b[1;33m)\u001b[0m\u001b[1;33m\u001b[0m\u001b[1;33m\u001b[0m\u001b[0m\n",
      "\u001b[1;32md:\\Users\\User\\Anaconda3\\lib\\http\\client.py\u001b[0m in \u001b[0;36mbegin\u001b[1;34m(self)\u001b[0m\n\u001b[0;32m    308\u001b[0m         \u001b[1;31m# read until we get a non-100 response\u001b[0m\u001b[1;33m\u001b[0m\u001b[1;33m\u001b[0m\u001b[1;33m\u001b[0m\u001b[0m\n\u001b[0;32m    309\u001b[0m         \u001b[1;32mwhile\u001b[0m \u001b[1;32mTrue\u001b[0m\u001b[1;33m:\u001b[0m\u001b[1;33m\u001b[0m\u001b[1;33m\u001b[0m\u001b[0m\n\u001b[1;32m--> 310\u001b[1;33m             \u001b[0mversion\u001b[0m\u001b[1;33m,\u001b[0m \u001b[0mstatus\u001b[0m\u001b[1;33m,\u001b[0m \u001b[0mreason\u001b[0m \u001b[1;33m=\u001b[0m \u001b[0mself\u001b[0m\u001b[1;33m.\u001b[0m\u001b[0m_read_status\u001b[0m\u001b[1;33m(\u001b[0m\u001b[1;33m)\u001b[0m\u001b[1;33m\u001b[0m\u001b[1;33m\u001b[0m\u001b[0m\n\u001b[0m\u001b[0;32m    311\u001b[0m             \u001b[1;32mif\u001b[0m \u001b[0mstatus\u001b[0m \u001b[1;33m!=\u001b[0m \u001b[0mCONTINUE\u001b[0m\u001b[1;33m:\u001b[0m\u001b[1;33m\u001b[0m\u001b[1;33m\u001b[0m\u001b[0m\n\u001b[0;32m    312\u001b[0m                 \u001b[1;32mbreak\u001b[0m\u001b[1;33m\u001b[0m\u001b[1;33m\u001b[0m\u001b[0m\n",
      "\u001b[1;32md:\\Users\\User\\Anaconda3\\lib\\http\\client.py\u001b[0m in \u001b[0;36m_read_status\u001b[1;34m(self)\u001b[0m\n\u001b[0;32m    269\u001b[0m \u001b[1;33m\u001b[0m\u001b[0m\n\u001b[0;32m    270\u001b[0m     \u001b[1;32mdef\u001b[0m \u001b[0m_read_status\u001b[0m\u001b[1;33m(\u001b[0m\u001b[0mself\u001b[0m\u001b[1;33m)\u001b[0m\u001b[1;33m:\u001b[0m\u001b[1;33m\u001b[0m\u001b[1;33m\u001b[0m\u001b[0m\n\u001b[1;32m--> 271\u001b[1;33m         \u001b[0mline\u001b[0m \u001b[1;33m=\u001b[0m \u001b[0mstr\u001b[0m\u001b[1;33m(\u001b[0m\u001b[0mself\u001b[0m\u001b[1;33m.\u001b[0m\u001b[0mfp\u001b[0m\u001b[1;33m.\u001b[0m\u001b[0mreadline\u001b[0m\u001b[1;33m(\u001b[0m\u001b[0m_MAXLINE\u001b[0m \u001b[1;33m+\u001b[0m \u001b[1;36m1\u001b[0m\u001b[1;33m)\u001b[0m\u001b[1;33m,\u001b[0m \u001b[1;34m\"iso-8859-1\"\u001b[0m\u001b[1;33m)\u001b[0m\u001b[1;33m\u001b[0m\u001b[1;33m\u001b[0m\u001b[0m\n\u001b[0m\u001b[0;32m    272\u001b[0m         \u001b[1;32mif\u001b[0m \u001b[0mlen\u001b[0m\u001b[1;33m(\u001b[0m\u001b[0mline\u001b[0m\u001b[1;33m)\u001b[0m \u001b[1;33m>\u001b[0m \u001b[0m_MAXLINE\u001b[0m\u001b[1;33m:\u001b[0m\u001b[1;33m\u001b[0m\u001b[1;33m\u001b[0m\u001b[0m\n\u001b[0;32m    273\u001b[0m             \u001b[1;32mraise\u001b[0m \u001b[0mLineTooLong\u001b[0m\u001b[1;33m(\u001b[0m\u001b[1;34m\"status line\"\u001b[0m\u001b[1;33m)\u001b[0m\u001b[1;33m\u001b[0m\u001b[1;33m\u001b[0m\u001b[0m\n",
      "\u001b[1;32md:\\Users\\User\\Anaconda3\\lib\\socket.py\u001b[0m in \u001b[0;36mreadinto\u001b[1;34m(self, b)\u001b[0m\n\u001b[0;32m    587\u001b[0m         \u001b[1;32mwhile\u001b[0m \u001b[1;32mTrue\u001b[0m\u001b[1;33m:\u001b[0m\u001b[1;33m\u001b[0m\u001b[1;33m\u001b[0m\u001b[0m\n\u001b[0;32m    588\u001b[0m             \u001b[1;32mtry\u001b[0m\u001b[1;33m:\u001b[0m\u001b[1;33m\u001b[0m\u001b[1;33m\u001b[0m\u001b[0m\n\u001b[1;32m--> 589\u001b[1;33m                 \u001b[1;32mreturn\u001b[0m \u001b[0mself\u001b[0m\u001b[1;33m.\u001b[0m\u001b[0m_sock\u001b[0m\u001b[1;33m.\u001b[0m\u001b[0mrecv_into\u001b[0m\u001b[1;33m(\u001b[0m\u001b[0mb\u001b[0m\u001b[1;33m)\u001b[0m\u001b[1;33m\u001b[0m\u001b[1;33m\u001b[0m\u001b[0m\n\u001b[0m\u001b[0;32m    590\u001b[0m             \u001b[1;32mexcept\u001b[0m \u001b[0mtimeout\u001b[0m\u001b[1;33m:\u001b[0m\u001b[1;33m\u001b[0m\u001b[1;33m\u001b[0m\u001b[0m\n\u001b[0;32m    591\u001b[0m                 \u001b[0mself\u001b[0m\u001b[1;33m.\u001b[0m\u001b[0m_timeout_occurred\u001b[0m \u001b[1;33m=\u001b[0m \u001b[1;32mTrue\u001b[0m\u001b[1;33m\u001b[0m\u001b[1;33m\u001b[0m\u001b[0m\n",
      "\u001b[1;32md:\\Users\\User\\Anaconda3\\lib\\ssl.py\u001b[0m in \u001b[0;36mrecv_into\u001b[1;34m(self, buffer, nbytes, flags)\u001b[0m\n\u001b[0;32m   1069\u001b[0m                   \u001b[1;34m\"non-zero flags not allowed in calls to recv_into() on %s\"\u001b[0m \u001b[1;33m%\u001b[0m\u001b[1;33m\u001b[0m\u001b[1;33m\u001b[0m\u001b[0m\n\u001b[0;32m   1070\u001b[0m                   self.__class__)\n\u001b[1;32m-> 1071\u001b[1;33m             \u001b[1;32mreturn\u001b[0m \u001b[0mself\u001b[0m\u001b[1;33m.\u001b[0m\u001b[0mread\u001b[0m\u001b[1;33m(\u001b[0m\u001b[0mnbytes\u001b[0m\u001b[1;33m,\u001b[0m \u001b[0mbuffer\u001b[0m\u001b[1;33m)\u001b[0m\u001b[1;33m\u001b[0m\u001b[1;33m\u001b[0m\u001b[0m\n\u001b[0m\u001b[0;32m   1072\u001b[0m         \u001b[1;32melse\u001b[0m\u001b[1;33m:\u001b[0m\u001b[1;33m\u001b[0m\u001b[1;33m\u001b[0m\u001b[0m\n\u001b[0;32m   1073\u001b[0m             \u001b[1;32mreturn\u001b[0m \u001b[0msuper\u001b[0m\u001b[1;33m(\u001b[0m\u001b[1;33m)\u001b[0m\u001b[1;33m.\u001b[0m\u001b[0mrecv_into\u001b[0m\u001b[1;33m(\u001b[0m\u001b[0mbuffer\u001b[0m\u001b[1;33m,\u001b[0m \u001b[0mnbytes\u001b[0m\u001b[1;33m,\u001b[0m \u001b[0mflags\u001b[0m\u001b[1;33m)\u001b[0m\u001b[1;33m\u001b[0m\u001b[1;33m\u001b[0m\u001b[0m\n",
      "\u001b[1;32md:\\Users\\User\\Anaconda3\\lib\\ssl.py\u001b[0m in \u001b[0;36mread\u001b[1;34m(self, len, buffer)\u001b[0m\n\u001b[0;32m    927\u001b[0m         \u001b[1;32mtry\u001b[0m\u001b[1;33m:\u001b[0m\u001b[1;33m\u001b[0m\u001b[1;33m\u001b[0m\u001b[0m\n\u001b[0;32m    928\u001b[0m             \u001b[1;32mif\u001b[0m \u001b[0mbuffer\u001b[0m \u001b[1;32mis\u001b[0m \u001b[1;32mnot\u001b[0m \u001b[1;32mNone\u001b[0m\u001b[1;33m:\u001b[0m\u001b[1;33m\u001b[0m\u001b[1;33m\u001b[0m\u001b[0m\n\u001b[1;32m--> 929\u001b[1;33m                 \u001b[1;32mreturn\u001b[0m \u001b[0mself\u001b[0m\u001b[1;33m.\u001b[0m\u001b[0m_sslobj\u001b[0m\u001b[1;33m.\u001b[0m\u001b[0mread\u001b[0m\u001b[1;33m(\u001b[0m\u001b[0mlen\u001b[0m\u001b[1;33m,\u001b[0m \u001b[0mbuffer\u001b[0m\u001b[1;33m)\u001b[0m\u001b[1;33m\u001b[0m\u001b[1;33m\u001b[0m\u001b[0m\n\u001b[0m\u001b[0;32m    930\u001b[0m             \u001b[1;32melse\u001b[0m\u001b[1;33m:\u001b[0m\u001b[1;33m\u001b[0m\u001b[1;33m\u001b[0m\u001b[0m\n\u001b[0;32m    931\u001b[0m                 \u001b[1;32mreturn\u001b[0m \u001b[0mself\u001b[0m\u001b[1;33m.\u001b[0m\u001b[0m_sslobj\u001b[0m\u001b[1;33m.\u001b[0m\u001b[0mread\u001b[0m\u001b[1;33m(\u001b[0m\u001b[0mlen\u001b[0m\u001b[1;33m)\u001b[0m\u001b[1;33m\u001b[0m\u001b[1;33m\u001b[0m\u001b[0m\n",
      "\u001b[1;31mKeyboardInterrupt\u001b[0m: "
     ]
    }
   ],
   "source": [
    "#Run this one at a time\n",
    "reviewObtained = getReview(appID,numReview,gameName)"
   ]
  },
  {
   "cell_type": "code",
   "execution_count": 4,
   "metadata": {},
   "outputs": [
    {
     "name": "stderr",
     "output_type": "stream",
     "text": [
      "[nltk_data] Downloading package omw-1.4 to\n",
      "[nltk_data]     C:\\Users\\User\\AppData\\Roaming\\nltk_data...\n",
      "[nltk_data]   Package omw-1.4 is already up-to-date!\n",
      "[nltk_data] Downloading package punkt to\n",
      "[nltk_data]     C:\\Users\\User\\AppData\\Roaming\\nltk_data...\n",
      "[nltk_data]   Package punkt is already up-to-date!\n",
      "[nltk_data] Downloading package averaged_perceptron_tagger to\n",
      "[nltk_data]     C:\\Users\\User\\AppData\\Roaming\\nltk_data...\n",
      "[nltk_data]   Package averaged_perceptron_tagger is already up-to-\n",
      "[nltk_data]       date!\n",
      "[nltk_data] Downloading package wordnet to\n",
      "[nltk_data]     C:\\Users\\User\\AppData\\Roaming\\nltk_data...\n",
      "[nltk_data]   Package wordnet is already up-to-date!\n"
     ]
    },
    {
     "data": {
      "text/plain": [
       "True"
      ]
     },
     "execution_count": 4,
     "metadata": {},
     "output_type": "execute_result"
    }
   ],
   "source": [
    "#download nltk libraries, only use if needed\n",
    "import nltk\n",
    "nltk.download('omw-1.4')\n",
    "\n",
    "nltk.download('punkt') #to download tokenize\n",
    "nltk.download('averaged_perceptron_tagger')# to download POS\n",
    "nltk.download('wordnet')# to allow lemmatization"
   ]
  },
  {
   "cell_type": "code",
   "execution_count": 23,
   "metadata": {},
   "outputs": [],
   "source": [
    "import pandas as pd\n",
    "import numpy as np\n",
    "from nltk.tokenize import word_tokenize\n",
    "from nltk import pos_tag\n",
    "from nltk.corpus import stopwords\n",
    "from nltk.stem import WordNetLemmatizer\n",
    "from sklearn.preprocessing import LabelEncoder\n",
    "from collections import defaultdict\n",
    "from nltk.corpus import wordnet as wn\n",
    "from sklearn.feature_extraction.text import TfidfVectorizer\n",
    "from sklearn import model_selection, naive_bayes, svm\n",
    "from sklearn.metrics import accuracy_score\n",
    "import re\n",
    "\n",
    "import math\n",
    "import contractions\n",
    "#ALGORITHM TO PREPROCESS AND MOVE REVIEW INTO EXCEL FILE, this file will only be used for training and testing\n",
    "\n",
    "#---------------------- PREPROCESSING LIBRARIES ------------\n",
    "import re\n",
    "\n",
    "import nltk\n",
    "from nltk.corpus import stopwords \n",
    "from nltk.tokenize import word_tokenize,sent_tokenize #for pos tagging\n",
    "from nltk.stem import WordNetLemmatizer #for lemmatizing\n",
    "\n",
    "#intsall NLTK\n",
    "#nltk.download() #to download nltk\n",
    "#nltk.download('punkt') #to download tokenize\n",
    "#nltk.download('averaged_perceptron_tagger')# to download POS\n",
    "#nltk.download('wordnet')# to allow lemmatization\n",
    "\n",
    "import contractions\n",
    "\n",
    "import xlwt\n",
    "from xlwt import Workbook\n",
    "\n",
    "#------------------IMPORT DATA FROM EXCEL---------------------------   \n",
    "#https://www.geeksforgeeks.org/how-to-iterate-through-excel-rows-in-python/\n",
    "import openpyxl\n",
    "from sqlalchemy import null\n",
    "\n",
    "    #*********LOCATION OF REVIEW, EG BLOONSTD ----------------------\n",
    "    # load excel location"
   ]
  },
  {
   "cell_type": "code",
   "execution_count": 21,
   "metadata": {},
   "outputs": [],
   "source": [
    "def preprocess(rawFile):\n",
    "    Corpus = pd.read_excel(rawFile + \".xlsx\")\n",
    "    # iterate through excel \n",
    "\n",
    "    #for saving into excel\n",
    "    wb = Workbook()\n",
    "    sheet1 = wb.add_sheet('Sheet 1')\n",
    "\n",
    "    i = 0\n",
    "    sheet1.write(0,0,\"review\")\n",
    "    sheet1.write(0,1,\"sentiment\")\n",
    "    sheet1.write(0,2,\"score\")\n",
    "    sheet1.write(0,3,\"time\")\n",
    "    #-------------------------------------------------\n",
    "\n",
    "    # Step - a : Remove blank rows if any.\n",
    "    Corpus['review'] = Corpus.dropna()\n",
    "                    #6.1 before tokenize, contract the words first\n",
    "\n",
    "    Corpus['review'] = [re.sub(r'https?://\\S+', '', str(entry)) for entry in Corpus['review']]\n",
    "\n",
    "    #2.remove HTML tags (THIS WILL REMOVE ALL INCLUDING CHECKBOX, but review with type checkboxes are rare, so removing them will not affect classifier as much)\n",
    "    \n",
    "    Corpus['review'] = [contractions.fix(entry) for entry in Corpus['review'] ] \n",
    "    \n",
    "    CLEANR = re.compile('<.*?>|&([a-z0-9]+|#[0-9]{1,6}|#x[0-9a-f]{1,6});')\n",
    "                    \n",
    "    Corpus['review'] = [re.sub(CLEANR, '',entry) for entry in Corpus['review']]\n",
    "                    \n",
    "    #3.remove emoji?\n",
    "    \n",
    "    Corpus['review'] = [re.sub(r'[\\🔳\\🔲\\☐][^\\☑️\\✅\\☑]*', '', entry) for entry in Corpus['review'] if  \"🔲\" or \"🔳\" or \"☐\" or \"☑\" or \"✅\" or \"☑️\" in entry]\n",
    "\n",
    "                    #https://gist.github.com/slowkow/7a7f61f495e3dbb7e3d767f97bd7304b\n",
    "                    #before removing all emoji, check which checkbox will not be useful and remove them\n",
    "                    \n",
    "        #http://www.unicode.org/Public/emoji/1.0//emoji-data.txt\n",
    "    emoji_pattern = re.compile(\"[\"\n",
    "                        u\"\\U0001F600-\\U0001F64F\"  # emoticons\n",
    "                        u\"\\U0001F300-\\U0001F5FF\"  # symbols & pictographs\n",
    "                        u\"\\U0001F680-\\U0001F6FF\"  # transport & map symbols\n",
    "                        u\"\\U0001F1E0-\\U0001F1FF\"  # flags (iOS)\n",
    "                        u\"\\U00002500-\\U00002BEF\"  # chinese char\n",
    "                        u\"\\U00002702-\\U000027B0\"\n",
    "                        u\"\\U00002702-\\U000027B0\"\n",
    "                        u\"\\U000024C2-\\U0001F251\"\n",
    "                        u\"\\U0001f926-\\U0001f937\"\n",
    "                        u\"\\U00010000-\\U0010ffff\"\n",
    "                        u\"\\u2640-\\u2642\"\n",
    "                        u\"\\u2600-\\u2B55\"\n",
    "                        u\"\\u200d\"\n",
    "                        u\"\\u23cf\"\n",
    "                        u\"\\u23e9\"\n",
    "                        u\"\\u231a\"\n",
    "                        u\"\\ufe0f\"  # dingbats\n",
    "                        u\"\\u3030\"\n",
    "                        \"]+\", flags=re.UNICODE)\n",
    "\n",
    "\n",
    "\n",
    "    Corpus['review'] = [emoji_pattern.sub(r'', entry) for entry in Corpus['review']]  # no emoji\n",
    "\n",
    "                    #remove symbols (unimportant ones such as related to emojis) - will be done after breaking each sentence. Reger 8.1\n",
    "    #def checkEmoji(word):\n",
    "    #   if  \"🔲\" or \"🔳\" or \"☐\" or \"☑\" or \"✅\" or \"☑️\" in word:    \n",
    "    #      return re.sub(r'[\\🔳\\🔲\\☐][^\\☑️\\✅\\☑]*', '', word) #DO NOT TOUCH THIS\n",
    "\n",
    "                    #4. set to lowercase\n",
    "    Corpus['review'] = [entry.lower() for entry in Corpus['review']]\n",
    "                    #5. remove number\n",
    "    Corpus['review'] = [''.join([i for i in entry if not i.isdigit()]) for entry in Corpus['review']]\n",
    "\n",
    "                    #6. remove extra whitespace\n",
    "    Corpus['review'] = [\" \".join(entry.split()) for entry in Corpus['review']] \n",
    "                # print(review)\n",
    "\n",
    "    # Step - c : Tokenization : In this each entry in the corpus will be broken into set of words\n",
    "    Corpus['review']= [word_tokenize(entry) for entry in Corpus['review']]\n",
    "\n",
    "\n",
    "    # Step - d : Remove Stop words, Non-Numeric and perfom Word Stemming/Lemmenting.\n",
    "    # WordNetLemmatizer requires Pos tags to understand if the word is noun or verb or adjective etc. By default it is set to Noun\n",
    "    tag_map = defaultdict(lambda : wn.NOUN)\n",
    "    tag_map['J'] = wn.ADJ\n",
    "    tag_map['V'] = wn.VERB\n",
    "    tag_map['R'] = wn.ADV\n",
    "\n",
    "    Corpus['score'] = [0.1 if entry==0 else entry for entry in Corpus['score']]\n",
    "#stopwords.update([\"br\", \"href\",\"good\",\"great\"])\n",
    "    \n",
    "    stop_words = set(stopwords.words('english')) - set(['not', 'no']) #omit no and not\n",
    "\n",
    "    #add words that aren't in the NLTK stopwords list\n",
    "    new_stopwords = ['game' ,'play','civ','stellaris','make','colony']\n",
    "    stop_words = stop_words.union(new_stopwords)\n",
    "\n",
    "    for index,entry in enumerate(Corpus['review']):\n",
    "        \n",
    "        # Declaring Empty List to store the words that follow the rules for this step\n",
    "        Final_words = []\n",
    "        # Initializing WordNetLemmatizer()\n",
    "        word_Lemmatized = WordNetLemmatizer()\n",
    "        # pos_tag function below will provide the 'tag' i.e if the word is Noun(N) or Verb(V) or something else.\n",
    "        for word, tag in pos_tag(entry):\n",
    "            # Below condition is to check for Stop words and consider only alphabets\n",
    "            word = re.sub(r'[^A-Za-z0-9 ]+', '', word)\n",
    "            if word not in stop_words and word.isalpha():\n",
    "                word_Final = word_Lemmatized.lemmatize(word,tag_map[tag[0]])\n",
    "                Final_words.append(word_Final)\n",
    "\n",
    "        # The final processed set of words for each iteration will be stored in 'text_final'\n",
    "        review = str(\" \".join(Final_words))\n",
    "        sentiment = Corpus['sentiment'][index]\n",
    "        score = Corpus['score'][index]\n",
    "        time = Corpus['time'][index]\n",
    "\n",
    "        if review == \"nan\":\n",
    "            review = \"\"\n",
    "\n",
    "        if len(review) != 0 and len(review) >= 6:\n",
    "            sheet1.write(i+1,0,review)\n",
    "            sheet1.write(i+1,1,bool(sentiment))\n",
    "            sheet1.write(i+1,2,score)\n",
    "            sheet1.write(i+1,3,int(time))\n",
    "            i += 1\n",
    "    \n",
    "\n",
    "    print(i)\n",
    "    wb.save(\"Preprocessed\" + rawFile +\"v4.xls\")        "
   ]
  },
  {
   "cell_type": "code",
   "execution_count": 22,
   "metadata": {},
   "outputs": [
    {
     "name": "stdout",
     "output_type": "stream",
     "text": [
      "18413\n"
     ]
    }
   ],
   "source": [
    "#gamename can also refer my experimental files\n",
    "#still preprocess all reviews because we will still use them\n",
    "#use ExperimentSent for testing purposes\n",
    "preprocess(\"BloonsTD\")"
   ]
  },
  {
   "attachments": {},
   "cell_type": "markdown",
   "metadata": {},
   "source": [
    "<t>SELECT ROWS FOR EACH GAME TO BE MERGED</t>"
   ]
  },
  {
   "cell_type": "code",
   "execution_count": 5,
   "metadata": {},
   "outputs": [],
   "source": [
    "import pandas as pd\n",
    "import seaborn as sns\n",
    "from collections import Counter\n",
    "from sklearn.preprocessing import LabelEncoder\n",
    "\n",
    "import xlwt\n",
    "from xlwt import Workbook\n",
    "\n",
    "#reviewWant, eg 3000 per game.\n",
    "def selectReview(reviewWant):\n",
    "\n",
    "    wb = Workbook()\n",
    "\n",
    "    df = pd.ExcelFile(\"Preprocessed\"+gameName+\"v3.xls\").parse()\n",
    "    #xls = pd.ExcelFile(\"Preprocessed\"+gameName+\".xls\")\n",
    "    #df.info()\n",
    "    sns.countplot(df['sentiment'])\n",
    "    \n",
    "    sheet1 = wb.add_sheet('Sheet 1')\n",
    "    #writing = xls.parse(0)\n",
    "    #Transform true = 1, false = 0\n",
    "    le = LabelEncoder()\n",
    "    df['sentiment'] = le.fit_transform(df['sentiment'])\n",
    "\n",
    "    sentVal = Counter(df['sentiment'])\n",
    "   # sentVal = Counter(xls['sentiment'])\n",
    "    sent = sentVal.most_common()\n",
    "    numTrue = sent[0][1] #get number of true sentiment\n",
    "    numFalse = sent[1][1] #get number of false sentiment\n",
    "    \n",
    "\n",
    "    #number of true review to be collected. only collect when numFalse is completely collected.\n",
    "    numTrue = reviewWant - numFalse\n",
    "\n",
    "    tr = 0\n",
    "    fl = 0\n",
    "    excelRow = 0\n",
    "\n",
    "    sheet1.write(0, 0, \"review\")\n",
    "    sheet1.write(0, 1, \"sentiment\")\n",
    "\n",
    "    for i in range(len(df)): \n",
    "        \n",
    "        review = (df['review'][i]) #col  1 to get review\n",
    "        sentiment = (df['sentiment'][i]) #col  1 to get review\n",
    "\n",
    "       # review = writing['review'][i] \n",
    "       #  sentiment = writing['sentiment'][i] \n",
    "        \n",
    "        if sentiment == 0 and fl < numFalse:\n",
    "            if fl <= numFalse:\n",
    "                fl += 1\n",
    "                sheet1.write(excelRow+1, 0, str(review))\n",
    "                sheet1.write(excelRow+1, 1, str(sentiment))\n",
    "                excelRow += 1\n",
    "\n",
    "        elif sentiment == 1:\n",
    "            if tr < numTrue:\n",
    "                tr += 1\n",
    "                sheet1.write(excelRow+1, 0, str(review))\n",
    "                sheet1.write(excelRow+1, 1, str(sentiment))\n",
    "                excelRow += 1\n",
    "\n",
    "\n",
    "    wb.save(\"selected\" + gameName + \"v3.xls\")  "
   ]
  },
  {
   "cell_type": "code",
   "execution_count": 287,
   "metadata": {},
   "outputs": [
    {
     "data": {
      "image/png": "[encoded data removed]",
      "text/plain": [
       "<Figure size 432x288 with 1 Axes>"
      ]
     },
     "metadata": {
      "needs_background": "light"
     },
     "output_type": "display_data"
    }
   ],
   "source": [
    "gameName = \"Stellaris\"\n",
    "reviewWant = 3000 #our choice\n",
    "selectReview(reviewWant)"
   ]
  },
  {
   "cell_type": "code",
   "execution_count": 21,
   "metadata": {},
   "outputs": [],
   "source": [
    "gameName=\"Stellaris\""
   ]
  },
  {
   "cell_type": "code",
   "execution_count": 23,
   "metadata": {},
   "outputs": [
    {
     "name": "stdout",
     "output_type": "stream",
     "text": [
      "2698\n",
      "9302\n"
     ]
    },
    {
     "name": "stderr",
     "output_type": "stream",
     "text": [
      "d:\\Users\\User\\Anaconda3\\lib\\site-packages\\seaborn\\_decorators.py:43: FutureWarning: Pass the following variable as a keyword arg: x. From version 0.12, the only valid positional argument will be `data`, and passing other arguments without an explicit keyword will result in an error or misinterpretation.\n",
      "  FutureWarning\n"
     ]
    },
    {
     "data": {
      "image/png": "[encoded data removed]",
      "text/plain": [
       "<Figure size 432x288 with 1 Axes>"
      ]
     },
     "metadata": {
      "needs_background": "light"
     },
     "output_type": "display_data"
    }
   ],
   "source": [
    "wb = Workbook()\n",
    "\n",
    "#df = pd.ExcelFile(\"Preprocessed\"+gameName+\"v3.xls\").parse()\n",
    "#df = pd.ExcelFile(gameName+\".xlsx\").parse()\n",
    "#df = pd.ExcelFile(\"selected\"+gameName+\".xls\").parse()\n",
    "df = pd.ExcelFile(\"mergedv3.xls\").parse()\n",
    "    #xls = pd.ExcelFile(\"Preprocessed\"+gameName+\".xls\")\n",
    "    #df.info()\n",
    "sns.countplot(df['sentiment'])\n",
    "    \n",
    "sheet1 = wb.add_sheet('Sheet 1')\n",
    "    #writing = xls.parse(0)\n",
    "    #Transform true = 1, false = 0\n",
    "le = LabelEncoder()\n",
    "df['sentiment'] = le.fit_transform(df['sentiment'])\n",
    "\n",
    "sentVal = Counter(df['sentiment'])\n",
    "   # sentVal = Counter(xls['sentiment'])\n",
    "sent = sentVal.most_common()\n",
    "numTrue = sent[0][1] #get number of true sentiment\n",
    "numFalse = sent[1][1] #get number of false sentiment\n",
    "\n",
    "print(numFalse)\n",
    "print(numTrue)"
   ]
  },
  {
   "attachments": {},
   "cell_type": "markdown",
   "metadata": {},
   "source": [
    "<t>MERGING REVIEWS FOR TRAINING</t>"
   ]
  },
  {
   "cell_type": "code",
   "execution_count": 69,
   "metadata": {},
   "outputs": [],
   "source": [
    "import pandas as pd\n",
    "import seaborn as sns\n",
    "from collections import Counter\n",
    "from sklearn.preprocessing import LabelEncoder\n",
    "\n",
    "import xlwt\n",
    "from xlwt import Workbook\n",
    "\n",
    "\n",
    "\n",
    "def mergeReview(doc1,doc2,doc3,doc4):\n",
    "    \n",
    "    wb = Workbook()\n",
    "    \n",
    "    sheet1 = wb.add_sheet('Sheet 1')\n",
    "    sheet1.write(0, 0, \"review\")\n",
    "    sheet1.write(0, 1, \"sentiment\")\n",
    "\n",
    "    excelRow = 0\n",
    "    doc = 0\n",
    "\n",
    "    while doc < 4:\n",
    "        \n",
    "        if doc == 0:\n",
    "            df = pd.ExcelFile(doc1).parse()\n",
    "        elif doc == 1:\n",
    "            df = pd.ExcelFile(doc2).parse()\n",
    "        elif doc == 2:\n",
    "            df = pd.ExcelFile(doc3).parse()\n",
    "        else:\n",
    "            df = pd.ExcelFile(doc4).parse()\n",
    "\n",
    "        for i in range(len(df)): \n",
    "\n",
    "    #-----------GET REVIEW ------------\n",
    "\n",
    "            review = (df['review'][i]) #col  1 to get review\n",
    "            sentiment = (df['sentiment'][i]) #col  1 to get review\n",
    "\n",
    "            sheet1.write(excelRow+1, 0, str(review))\n",
    "            sheet1.write(excelRow+1, 1, str(sentiment))\n",
    "            excelRow += 1\n",
    "\n",
    "        doc += 1\n",
    "    \n",
    "    #name of merged file\n",
    "    wb.save(\"mergedv3.xls\")  "
   ]
  },
  {
   "cell_type": "code",
   "execution_count": 288,
   "metadata": {},
   "outputs": [],
   "source": [
    "#insert all preprocessed game name here,i.e PreprocessedBloondTD.xls\n",
    "mergeReview(\"selectedBloonsTDv3.xls\",\"selectedONIv3.xls\",\"selectedSMCv3.xls\",\"selectedStellarisv3.xls\")"
   ]
  },
  {
   "cell_type": "code",
   "execution_count": 68,
   "metadata": {},
   "outputs": [],
   "source": [
    "#will only be used in training\n",
    "#can still rename it to preprocessed file of any game. i.e PreprocessedBloondTD.xls\n",
    "mergedFile = \"merged.xls\""
   ]
  },
  {
   "cell_type": "code",
   "execution_count": 292,
   "metadata": {},
   "outputs": [
    {
     "name": "stdout",
     "output_type": "stream",
     "text": [
      "Number reviews: 12000\n",
      "Number of false sentiment: 2698\n",
      "Number of ture sentiment: 9302\n"
     ]
    },
    {
     "data": {
      "image/png": "[encoded data removed]",
      "text/plain": [
       "<Figure size 432x288 with 1 Axes>"
      ]
     },
     "metadata": {
      "needs_background": "light"
     },
     "output_type": "display_data"
    }
   ],
   "source": [
    "dfMerge = pd.ExcelFile(\"mergedv3.xls\").parse()\n",
    "#xls = pd.ExcelFile(\"Preprocessed\"+gameName+\".xls\")\n",
    "    #df.info()\n",
    "sns.countplot(dfMerge['sentiment'])\n",
    "\n",
    "sentVal = Counter(dfMerge['sentiment'])\n",
    "# sentVal = Counter(xls['sentiment'])\n",
    "sent = sentVal.most_common()\n",
    "numTrue = sent[0][1] #get number of true sentiment\n",
    "numFalse = sent[1][1] #get number of false sentiment\n",
    "\n",
    "print(\"Number reviews:\" , numFalse+numTrue)\n",
    "print(\"Number of false sentiment:\", numFalse)\n",
    "print(\"Number of ture sentiment:\", numTrue)"
   ]
  },
  {
   "attachments": {},
   "cell_type": "markdown",
   "metadata": {},
   "source": [
    "<t>BEGIN TRAINING AND MODELING - ALGORITHM TO TAKE PROCESSED SENTIMENT AND DETERMINE THEIR POLARITY (AND MODELLING)</t>\n",
    "<t>Seperated into 4 parts</t>\n",
    "<l>\n",
    "1. Append all reviews for tf-idf\n",
    "2. Conduct tf-idf\n",
    "3. Train svm\n",
    "4. Fit svm\n",
    "</l>"
   ]
  },
  {
   "cell_type": "code",
   "execution_count": 22,
   "metadata": {},
   "outputs": [],
   "source": [
    "import pickle\n",
    "import os\n",
    "import string\n",
    "import warnings\n",
    "\n",
    "import nltk\n",
    "import numpy as np\n",
    "import pandas as pd\n",
    "import seaborn as sns\n",
    "\n",
    "from nltk.corpus import stopwords\n",
    "from nltk.stem.snowball import SnowballStemmer\n",
    "\n",
    "from sklearn.feature_extraction.text import TfidfVectorizer\n",
    "from sklearn.metrics import confusion_matrix, classification_report, accuracy_score, make_scorer\n",
    "from sklearn.model_selection import train_test_split, RandomizedSearchCV, StratifiedKFold\n",
    "from sklearn.preprocessing import LabelEncoder\n",
    "from sklearn import svm\n",
    "from sklearn.model_selection import cross_val_score, RepeatedStratifiedKFold,RandomizedSearchCV, KFold\n",
    "\n",
    "from scipy import stats\n",
    "from collections import Counter\n",
    "\n",
    "warnings.filterwarnings('ignore')"
   ]
  },
  {
   "cell_type": "code",
   "execution_count": 28,
   "metadata": {},
   "outputs": [],
   "source": [
    "def readFile(fileName):\n",
    "    df = pd.read_excel(fileName)\n",
    "    X = df['review']\n",
    "    Y = df['sentiment']\n",
    "\n",
    "    return X,Y"
   ]
  },
  {
   "cell_type": "code",
   "execution_count": 29,
   "metadata": {},
   "outputs": [],
   "source": [
    "#STEP 2: SPLIT TRAIN SVM\n",
    "\n",
    "def training(fileName):\n",
    "    #train test split\n",
    "    #x = word, y = sentiment\n",
    "    X,Y = readFile(fileName)\n",
    "\n",
    "    #test size = 0.2, meaning 80:20 split\n",
    "    word_train, word_test, sentiment_train, sentiment_test = train_test_split(X, Y, test_size=0.2, random_state=0, shuffle=True, stratify=Y)\n",
    "    # Check the number of records in training and testing dataset.\n",
    "    #print(\"The training dataset has\" ,  len(word_train) , \" records.\")\n",
    "    #print(\"The testing dataset has\" , len(word_test) , \" records.\")\n",
    "\n",
    "    return word_train, word_test, sentiment_train, sentiment_test"
   ]
  },
  {
   "cell_type": "code",
   "execution_count": 30,
   "metadata": {},
   "outputs": [],
   "source": [
    "#DEFAULT TF-IDF AND CLASSIFIER , AFTER CROSS VALIDATION of tuned vs default, only then tuned tfidf\n",
    "\n",
    "#USING SPLIT TRAIN TEST\n",
    "#STEP 3: TF-IDF\n",
    "\n",
    "def vectorizer(fileName, vect,word_train, word_test, sentiment_train, sentiment_test):\n",
    "\n",
    "    X,Y = readFile(fileName)\n",
    "\n",
    "    \n",
    "    word_train_vec = vect.transform(word_train)\n",
    "    sentiment_train_vec = np.array(sentiment_train)\n",
    "\n",
    "    word_test_vec = vect.transform(word_test)\n",
    "    sentiment_test_vec = np.array(sentiment_test)\n",
    "\n",
    "    vecWord = vect.transform(X)\n",
    "    vecSentiment = np.array(Y)\n",
    "\n",
    "    print(\"n_samples:\" , len(word_train) , \"n_features:\" , len(vect.get_feature_names()))\n",
    "    \n",
    "    return word_train_vec, sentiment_train_vec, word_test_vec , sentiment_test_vec, vecWord , vecSentiment"
   ]
  },
  {
   "cell_type": "code",
   "execution_count": 31,
   "metadata": {},
   "outputs": [],
   "source": [
    "#PART 4: FIT INTO CLASSIFIER\n",
    "#modelling\n",
    "# kernel, gamma, etc : https://www.youtube.com/watch?v=7szWpkUIIs\n",
    "# learning rate, lambda : https://www.youtube.com/watch?v=5egiXYde6PY\n",
    "\n",
    "def classifier(word_train, sentiment_train, model):\n",
    "    \n",
    "    model.fit(word_train, sentiment_train)"
   ]
  },
  {
   "attachments": {},
   "cell_type": "markdown",
   "metadata": {},
   "source": [
    "<t>FEATURES FOR EACH PREPROCESSED DATA</t>\n",
    "<p>Why do we do this? Because need to be the same, otherwise, it cannot predict new files with different number of features</p>\n",
    "<ul>Merged: 148507</ul>\n",
    "<ul>BloonsTD: 108911</ul>\n",
    "<ul>Oxygen Not Included: 90971</ul>\n",
    "<ul>SMC: 78374</ul>\n",
    "<ul>Stellaris: 197697</ul>\n",
    "\n",
    "<p>Therefore, the values need to be max 78374</p>\n",
    "\n",
    "<p style=\"color:red;\"> No need to worry about this anymore because tfidf will not be used multiple times, only once when training </p>"
   ]
  },
  {
   "cell_type": "code",
   "execution_count": 33,
   "metadata": {},
   "outputs": [],
   "source": [
    "def displayResult(wordCount,sentimentValues,y_test,X_train,X_test,y_train, modelFit):\n",
    "    \n",
    "    print(Counter(y_train))\n",
    "    print(sns.countplot(y_train))\n",
    "\n",
    "    X = wordCount\n",
    "    Y = sentimentValues\n",
    "    \n",
    "\n",
    "    kfold = KFold(shuffle=True, n_splits=10)\n",
    "    cv_score = cross_val_score(modelFit,X,Y, cv = kfold)\n",
    "    meanAccuracy = round((sum(cv_score/len(cv_score)))*100,2)\n",
    "    \n",
    "    print(\"Mean Accuracy:\" , meanAccuracy)\n",
    "    \n",
    "    word_Testprediction = modelFit.predict(X_test)\n",
    "    print(classification_report(y_test, word_Testprediction))\n",
    "    print(\"-----------------\")\n",
    "\n",
    "    diff = cv_score.mean() - modelFit.score(X_test, y_test)\n",
    "    SD = diff / cv_score.std()\n",
    "    \n",
    "    print(f\"Training Score:{modelFit.score(X_train, y_train)}\")\n",
    "    print(f\"Cross V Score: {cv_score.mean()} +/- {cv_score.std()}\")\n",
    "    print(f\"Testing Score: {modelFit.score(X_test, y_test)}\")\n",
    "    print(f\"Cross & Test Diff: {diff}\")\n",
    "    print(f\"Standard Deviations Away: {SD}\")\n",
    "    print(confusion_matrix(y_test, word_Testprediction ))"
   ]
  },
  {
   "cell_type": "code",
   "execution_count": 7,
   "metadata": {},
   "outputs": [],
   "source": [
    "fileName = \"mergedv3.xls\""
   ]
  },
  {
   "attachments": {},
   "cell_type": "markdown",
   "metadata": {},
   "source": [
    "<t> CALL MODULE TO TRAIN WITHOUT SMOTE </t>"
   ]
  },
  {
   "attachments": {},
   "cell_type": "markdown",
   "metadata": {},
   "source": [
    "<t> LINEAR KERNEL </t>"
   ]
  },
  {
   "cell_type": "code",
   "execution_count": 10,
   "metadata": {},
   "outputs": [
    {
     "name": "stdout",
     "output_type": "stream",
     "text": [
      "n_samples: 9600 n_features: 12880\n",
      "Counter({1: 7442, 0: 2158})\n",
      "AxesSubplot(0.125,0.125;0.775x0.755)\n",
      "Mean Accuracy: 89.72\n",
      "              precision    recall  f1-score   support\n",
      "\n",
      "           0       0.81      0.69      0.74       540\n",
      "           1       0.91      0.95      0.93      1860\n",
      "\n",
      "    accuracy                           0.89      2400\n",
      "   macro avg       0.86      0.82      0.84      2400\n",
      "weighted avg       0.89      0.89      0.89      2400\n",
      "\n",
      "-----------------\n",
      "Training Score:0.9541666666666667\n",
      "Cross V Score: 0.8971666666666666 +/- 0.008442616761275959\n",
      "Testing Score: 0.8925\n",
      "Cross & Test Diff: 0.004666666666666597\n",
      "Standard Deviations Away: 0.5527512143002105\n",
      "[[ 370  170]\n",
      " [  88 1772]]\n"
     ]
    },
    {
     "data": {
      "image/png": "[encoded data removed]",
      "text/plain": [
       "<Figure size 432x288 with 1 Axes>"
      ]
     },
     "metadata": {
      "needs_background": "light"
     },
     "output_type": "display_data"
    }
   ],
   "source": [
    "#https://www.youtube.com/watch?v=TMzaK2-K5C4&list=TLPQMzExMjIwMjJdYi-jcUwHRQ&index=11\n",
    "#Step 1 : Split train test\n",
    "word_train, word_test, sentiment_train, sentiment_test = training(fileName)\n",
    "\n",
    "#Step 2 : Tf-idf\n",
    "vect = TfidfVectorizer().fit(word_train)\n",
    "word_train_vec, sentiment_train_vec, word_test_vec , sentiment_test_vec, vecWord , vecSentiment = vectorizer(fileName, vect,word_train, word_test, sentiment_train, sentiment_test)\n",
    "\n",
    "#Step 3: Fit into classifier\n",
    "defModel = svm.SVC(kernel='linear', random_state=0)\n",
    "classifier(word_train_vec, sentiment_train_vec,defModel)\n",
    "\n",
    "#Step 4: Display result\n",
    "displayResult(vecWord, vecSentiment, sentiment_test_vec,word_train_vec,word_test_vec,sentiment_train_vec,defModel)\n",
    "#HOW TO USE THE MODEL? , just use classifier.preditct(vect.transform(df['sentiment']))"
   ]
  },
  {
   "attachments": {},
   "cell_type": "markdown",
   "metadata": {},
   "source": [
    "<t> POLY KERNEL </t>"
   ]
  },
  {
   "cell_type": "code",
   "execution_count": 11,
   "metadata": {},
   "outputs": [
    {
     "name": "stdout",
     "output_type": "stream",
     "text": [
      "n_samples: 9600 n_features: 12880\n",
      "Counter({1: 7442, 0: 2158})\n",
      "AxesSubplot(0.125,0.125;0.775x0.755)\n",
      "Mean Accuracy: 81.1\n",
      "              precision    recall  f1-score   support\n",
      "\n",
      "           0       0.85      0.18      0.30       540\n",
      "           1       0.81      0.99      0.89      1860\n",
      "\n",
      "    accuracy                           0.81      2400\n",
      "   macro avg       0.83      0.59      0.59      2400\n",
      "weighted avg       0.82      0.81      0.76      2400\n",
      "\n",
      "-----------------\n",
      "Training Score:0.9958333333333333\n",
      "Cross V Score: 0.8110000000000002 +/- 0.011994211566881357\n",
      "Testing Score: 0.8083333333333333\n",
      "Cross & Test Diff: 0.002666666666666817\n",
      "Standard Deviations Away: 0.22232946715981458\n",
      "[[  97  443]\n",
      " [  17 1843]]\n"
     ]
    },
    {
     "data": {
      "image/png": "[encoded data removed]",
      "text/plain": [
       "<Figure size 432x288 with 1 Axes>"
      ]
     },
     "metadata": {
      "needs_background": "light"
     },
     "output_type": "display_data"
    }
   ],
   "source": [
    "#https://www.youtube.com/watch?v=TMzaK2-K5C4&list=TLPQMzExMjIwMjJdYi-jcUwHRQ&index=11\n",
    "#Step 1 : Split train test\n",
    "word_train, word_test, sentiment_train, sentiment_test = training(fileName)\n",
    "\n",
    "#Step 2 : Tf-idf\n",
    "vect = TfidfVectorizer().fit(word_train)\n",
    "word_train_vec, sentiment_train_vec, word_test_vec , sentiment_test_vec, vecWord , vecSentiment = vectorizer(fileName, vect,word_train, word_test, sentiment_train, sentiment_test)\n",
    "\n",
    "#Step 3: Fit into classifier\n",
    "defModel = svm.SVC(kernel='poly', random_state=0)\n",
    "classifier(word_train_vec, sentiment_train_vec,defModel)\n",
    "\n",
    "#Step 4: Display result\n",
    "displayResult(vecWord, vecSentiment, sentiment_test_vec,word_train_vec,word_test_vec,sentiment_train_vec,defModel)\n",
    "#HOW TO USE THE MODEL? , just use classifier.preditct(vect.transform(df['sentiment']))"
   ]
  },
  {
   "attachments": {},
   "cell_type": "markdown",
   "metadata": {},
   "source": [
    "<t> RBF KERNEL </t>"
   ]
  },
  {
   "cell_type": "code",
   "execution_count": 12,
   "metadata": {},
   "outputs": [
    {
     "name": "stdout",
     "output_type": "stream",
     "text": [
      "n_samples: 9600 n_features: 12880\n",
      "Counter({1: 7442, 0: 2158})\n",
      "AxesSubplot(0.125,0.125;0.775x0.755)\n",
      "Mean Accuracy: 89.7\n",
      "              precision    recall  f1-score   support\n",
      "\n",
      "           0       0.85      0.65      0.74       540\n",
      "           1       0.91      0.97      0.93      1860\n",
      "\n",
      "    accuracy                           0.90      2400\n",
      "   macro avg       0.88      0.81      0.84      2400\n",
      "weighted avg       0.89      0.90      0.89      2400\n",
      "\n",
      "-----------------\n",
      "Training Score:0.9820833333333333\n",
      "Cross V Score: 0.8969999999999999 +/- 0.004444097208657778\n",
      "Testing Score: 0.8954166666666666\n",
      "Cross & Test Diff: 0.00158333333333327\n",
      "Standard Deviations Away: 0.356277835293228\n",
      "[[ 353  187]\n",
      " [  64 1796]]\n"
     ]
    },
    {
     "data": {
      "image/png": "[encoded data removed]",
      "text/plain": [
       "<Figure size 432x288 with 1 Axes>"
      ]
     },
     "metadata": {
      "needs_background": "light"
     },
     "output_type": "display_data"
    }
   ],
   "source": [
    "#https://www.youtube.com/watch?v=TMzaK2-K5C4&list=TLPQMzExMjIwMjJdYi-jcUwHRQ&index=11\n",
    "#Step 1 : Split train test\n",
    "word_train, word_test, sentiment_train, sentiment_test = training(fileName)\n",
    "\n",
    "#Step 2 : Tf-idf\n",
    "vect = TfidfVectorizer().fit(word_train)\n",
    "word_train_vec, sentiment_train_vec, word_test_vec , sentiment_test_vec, vecWord , vecSentiment = vectorizer(fileName, vect,word_train, word_test, sentiment_train, sentiment_test)\n",
    "\n",
    "#Step 3: Fit into classifier\n",
    "defModel = svm.SVC(kernel='rbf', random_state=0)\n",
    "classifier(word_train_vec, sentiment_train_vec,defModel)\n",
    "\n",
    "#Step 4: Display result\n",
    "displayResult(vecWord, vecSentiment, sentiment_test_vec,word_train_vec,word_test_vec,sentiment_train_vec,defModel)\n",
    "#HOW TO USE THE MODEL? , just use classifier.preditct(vect.transform(df['sentiment']))"
   ]
  },
  {
   "attachments": {},
   "cell_type": "markdown",
   "metadata": {},
   "source": [
    "<t>SMOTE TRANING MODULE</t>"
   ]
  },
  {
   "cell_type": "code",
   "execution_count": 43,
   "metadata": {},
   "outputs": [],
   "source": [
    "import imblearn\n",
    "from imblearn.over_sampling import SMOTE\n",
    "#https://www.analyticsvidhya.com/blog/2020/10/overcoming-class-imbalance-using-smote-techniques/\n",
    "#https://towardsdatascience.com/applying-smote-for-class-imbalance-with-just-a-few-lines-of-code-python-cdf603e58688\n",
    "\n",
    "#https://stackoverflow.com/questions/50999596/smote-oversampling-on-text-classification-in-python\n",
    "\n",
    "from imblearn.pipeline import Pipeline, make_pipeline\n",
    "\n",
    "def trainingSmote(fileName):\n",
    "    #SMOTE IS USED AFTER TF-IDF\n",
    "\n",
    "    #-------------------smote--------------------\n",
    "    #HOW TO USE THE MODEL? , just use classifier.preditct(wordList)\n",
    "\n",
    "    #https://towardsdatascience.com/how-to-handle-smote-data-in-imbalanced-classification-problems-cf4b86e8c6a1\n",
    "    smt =  SMOTE(random_state=0)\n",
    "\n",
    "    #ONLY ON training data, not test data.\n",
    "    word_train, word_test, sentiment_train, sentiment_test = training(fileName)\n",
    "    \n",
    "    #Temporary only\n",
    "    vect = TfidfVectorizer(ngram_range=(1,1) , max_df = 0.5, max_features=15000).fit(word_train)\n",
    "    #vect = TfidfVectorizer().fit(word_train)\n",
    "\n",
    "    word_Smote_vec, sentiment_Smote_vec, word_test_vec , sentiment_test_vec, vecWord , vecSentiment = vectorizer(fileName, vect,word_train, word_test, sentiment_train, sentiment_test)\n",
    "\n",
    "    word_Smote_vec , sentiment_Smote_vec = smt.fit_resample(word_Smote_vec, sentiment_Smote_vec)\n",
    "\n",
    "    return word_Smote_vec, sentiment_Smote_vec, word_test_vec , sentiment_test_vec, vecWord , vecSentiment\n"
   ]
  },
  {
   "attachments": {},
   "cell_type": "markdown",
   "metadata": {},
   "source": [
    "<t>CALL MODULE AND TRAIN WITH SMOTE</t>"
   ]
  },
  {
   "cell_type": "code",
   "execution_count": 7,
   "metadata": {},
   "outputs": [],
   "source": [
    "fileName = \"mergedv3.xls\""
   ]
  },
  {
   "cell_type": "code",
   "execution_count": 28,
   "metadata": {},
   "outputs": [
    {
     "name": "stdout",
     "output_type": "stream",
     "text": [
      "n_samples: 9600 n_features: 12880\n",
      "Counter({1: 7442, 0: 7442})\n",
      "AxesSubplot(0.125,0.125;0.775x0.755)\n",
      "Mean Accuracy: 81.06\n",
      "              precision    recall  f1-score   support\n",
      "\n",
      "           0       0.80      0.59      0.68       540\n",
      "           1       0.89      0.96      0.92      1860\n",
      "\n",
      "    accuracy                           0.87      2400\n",
      "   macro avg       0.84      0.78      0.80      2400\n",
      "weighted avg       0.87      0.87      0.87      2400\n",
      "\n",
      "-----------------\n",
      "Training Score:0.9967078742273583\n",
      "Cross V Score: 0.8105833333333333 +/- 0.010274361294017246\n",
      "Testing Score: 0.8745833333333334\n",
      "Cross & Test Diff: -0.06400000000000006\n",
      "Standard Deviations Away: -6.229097670262697\n",
      "[[ 321  219]\n",
      " [  82 1778]]\n"
     ]
    },
    {
     "data": {
      "image/png": "[encoded data removed]",
      "text/plain": [
       "<Figure size 432x288 with 1 Axes>"
      ]
     },
     "metadata": {
      "needs_background": "light"
     },
     "output_type": "display_data"
    }
   ],
   "source": [
    "smoteModel = svm.SVC(kernel='poly', random_state=0)\n",
    "\n",
    "#Step 1 : Split train test AND\n",
    "#Step 2 : Tf-idf FOR SMOTE CASE\n",
    "\n",
    "word_Smote_vec, sentiment_Smote_vec, word_test_vec , sentiment_test_vec, vecWord , vecSentiment = trainingSmote(fileName)\n",
    "\n",
    "#Step 3: Fit into classifier\n",
    "classifier(word_Smote_vec, sentiment_Smote_vec,smoteModel)\n",
    "\n",
    "#Step 4: Display result\n",
    "displayResult(vecWord, vecSentiment, sentiment_test_vec,word_Smote_vec,word_test_vec,sentiment_Smote_vec,smoteModel)\n",
    "#HOW TO USE THE MODEL? , just use classifier.preditct(wordList)\n"
   ]
  },
  {
   "attachments": {},
   "cell_type": "markdown",
   "metadata": {},
   "source": [
    "<t>TUNING PART OF MODELING</t>"
   ]
  },
  {
   "cell_type": "code",
   "execution_count": 44,
   "metadata": {},
   "outputs": [],
   "source": [
    "from hyperopt import tpe\n",
    "from hyperopt import STATUS_OK\n",
    "from hyperopt import Trials\n",
    "from hyperopt import hp\n",
    "from hyperopt import fmin"
   ]
  },
  {
   "cell_type": "code",
   "execution_count": 45,
   "metadata": {},
   "outputs": [
    {
     "name": "stdout",
     "output_type": "stream",
     "text": [
      "n_samples: 9600 n_features: 12880\n"
     ]
    }
   ],
   "source": [
    "word_Smote_vec, sentiment_Smote_vec, word_test_vec , sentiment_test_vec, vecWord , vecSentiment = trainingSmote(fileName)"
   ]
  },
  {
   "cell_type": "code",
   "execution_count": 46,
   "metadata": {},
   "outputs": [],
   "source": [
    "def objective(params, X_train = word_Smote_vec, y_train = sentiment_Smote_vec):\n",
    "\n",
    "    clf = svm.SVC(**params,random_state=0, kernel = 'linear')\n",
    "\n",
    "   # kfold = KFold(shuffle=True, n_splits=5)\n",
    "   \n",
    "    #scores = cross_val_score(clf, X_train, y_train, cv=5) #scoring='f1_macro'\n",
    "    kfold = StratifiedKFold(n_splits=5)\n",
    "    scores = cross_val_score(clf, X_train, y_train, cv=kfold)\n",
    "\n",
    "    # Extract the best score\n",
    "    best_score = max(scores)\n",
    "\n",
    "    # Loss must be minimized\n",
    "    loss = 1 - best_score\n",
    "\n",
    "    # Dictionary with information for evaluation\n",
    "    return {'loss': loss, 'params': params, 'status': STATUS_OK}"
   ]
  },
  {
   "attachments": {},
   "cell_type": "markdown",
   "metadata": {},
   "source": [
    "<t>SVM HYPERPARAMETER</t>\n",
    "<p>\n",
    "C &nbsp                        1.0  <br>\n",
    "break_ties    &nbsp             False <br>\n",
    "cache_size      &nbsp             200 <br>\n",
    "class_weight      &nbsp          None <br>\n",
    "coef0            &nbsp            0.0 <br>\n",
    "decision_function_shape   &nbsp   ovr <br>\n",
    "degree        &nbsp                 3 <br>\n",
    "gamma        &nbsp              scale <br>\n",
    "kernel          &nbsp          linear <br>\n",
    "max_iter           &nbsp           -1 <br>\n",
    "probability       &nbsp         False <br>\n",
    "random_state     &nbsp           None <br>\n",
    "shrinking      &nbsp             True <br>\n",
    "tol            &nbsp            0.001 <br>\n",
    "verbose           &nbsp         False <br>\n",
    "</p>"
   ]
  },
  {
   "cell_type": "code",
   "execution_count": null,
   "metadata": {},
   "outputs": [],
   "source": [
    "polynomial kernel or RBF kernel\n"
   ]
  },
  {
   "cell_type": "code",
   "execution_count": 47,
   "metadata": {},
   "outputs": [],
   "source": [
    "#set hyperparameter ranges\n",
    "param_grid = {\n",
    "  # 'class_weight': hp.choice\n",
    "   'C' : hp.qloguniform('C', np.log(0.001), np.log(10**5), 0.001),\n",
    "  # 'gamma' : hp.qloguniform('gamma', np.log(0.0001), np.log(10**3), 0.0001)\n",
    "}\n",
    "\n",
    "MAX_EVALS = 10"
   ]
  },
  {
   "cell_type": "code",
   "execution_count": 48,
   "metadata": {},
   "outputs": [
    {
     "name": "stdout",
     "output_type": "stream",
     "text": [
      "100%|██████████| 10/10 [4:24:52<00:00, 1589.22s/trial, best loss: 0.04669129996640908] \n"
     ]
    }
   ],
   "source": [
    "# only run once in a while\n",
    "#https://github.com/udaykondreddy/Code-for-learn-machinelearning/tree/master/hyperparameter%20tuning\n",
    "#-------------------------------------------------------------------------\n",
    "tpe_algorithm = tpe.suggest\n",
    "\n",
    "bayes_trials = Trials()\n",
    "#params, n_folds, X_train, Y_train\n",
    "best = fmin(fn = objective, space = param_grid, algo = tpe.suggest, max_evals = MAX_EVALS, trials = bayes_trials)\n"
   ]
  },
  {
   "cell_type": "code",
   "execution_count": 49,
   "metadata": {},
   "outputs": [
    {
     "data": {
      "text/plain": [
       "{'C': 15.576}"
      ]
     },
     "execution_count": 49,
     "metadata": {},
     "output_type": "execute_result"
    }
   ],
   "source": [
    "#print best values\n",
    "best"
   ]
  },
  {
   "attachments": {},
   "cell_type": "markdown",
   "metadata": {},
   "source": [
    "<t>USING HYPEROPT </t>\n",
    "<p>Hyperparameter tuned + SMOTE: {'C': 1.611385743402565, 'gamma': 0.1377145454497124}</p> \n",
    "<p>Hyperparameter tuned + SMOTE, latest version: {'C': 1.1055133591670183, 'gamma': 19.240787455089944}</p> \n",
    "<p>Hyperparameter tuned + SMOTE, latest version 2: {'C': 4.939758581723716, 'gamma': 108.6409752192577}</p> \n",
    "<p>Hyperparameter tuned + SMOTE, latest version 3: {'C': 8.219, 'gamma': 0.13440000000000002}</p> \n",
    "{'C': 11.327}\n",
    "\n",
    "\n",
    "<t>USING RANDOMIZED SEARCH </t>\n",
    "<p>Hyperparameter tuned + Default: svm.SVC(kernel='linear', gamma= 10000000.0, C = 10.0) </p>\n",
    "\n",
    "<p> Try to use and compare parameter of trained with smote vs trained with default in the random selecter </p>"
   ]
  },
  {
   "cell_type": "code",
   "execution_count": 50,
   "metadata": {},
   "outputs": [
    {
     "name": "stdout",
     "output_type": "stream",
     "text": [
      "---HYPERPARAMETER TUNED---\n",
      "n_samples: 9600 n_features: 12880\n",
      "Counter({1: 7442, 0: 7442})\n",
      "AxesSubplot(0.125,0.125;0.775x0.755)\n",
      "Mean Accuracy: 88.02\n",
      "              precision    recall  f1-score   support\n",
      "\n",
      "           0       0.70      0.72      0.71       540\n",
      "           1       0.92      0.91      0.91      1860\n",
      "\n",
      "    accuracy                           0.87      2400\n",
      "   macro avg       0.81      0.82      0.81      2400\n",
      "weighted avg       0.87      0.87      0.87      2400\n",
      "\n",
      "-----------------\n",
      "Training Score:0.9883767804353668\n",
      "Cross V Score: 0.88025 +/- 0.008660654966250809\n",
      "Testing Score: 0.8675\n",
      "Cross & Test Diff: 0.012749999999999928\n",
      "Standard Deviations Away: 1.4721750317596816\n",
      "[[ 389  151]\n",
      " [ 167 1693]]\n"
     ]
    },
    {
     "data": {
      "image/png": "[encoded data removed]",
      "text/plain": [
       "<Figure size 432x288 with 1 Axes>"
      ]
     },
     "metadata": {
      "needs_background": "light"
     },
     "output_type": "display_data"
    }
   ],
   "source": [
    "#-----------------------------------------\n",
    "print(\"---HYPERPARAMETER TUNED---\")\n",
    "#JUST USE THIS AND INSERT BEST VALUE, no need to run hyperopt everytime\n",
    "# first time, the hyperparameter tuned is better.\n",
    "\n",
    "#HYPER PARAMETER TUNED, be sure to insert the values after finding best parameter\n",
    "classifierTuned = svm.SVC(kernel='linear', C= 15.576,random_state=0)\n",
    "\n",
    "#Step 1 : Split train test\n",
    "#Step 2 : Tf-idf\n",
    "word_Smote_vec, sentiment_Smote_vec, word_test_vec , sentiment_test_vec, vecWord , vecSentiment = trainingSmote(fileName)\n",
    "\n",
    "#Step 3: Fit into classifier\n",
    "classifier(word_Smote_vec, sentiment_Smote_vec,classifierTuned)\n",
    "\n",
    "#Step 4: Display result\n",
    "displayResult(vecWord, vecSentiment, sentiment_test_vec,word_Smote_vec,word_test_vec,sentiment_Smote_vec,classifierTuned)\n",
    "\n",
    "#why find both accuracy (training and testing) ? to avoid overfit, so we compare"
   ]
  },
  {
   "cell_type": "code",
   "execution_count": 8,
   "metadata": {},
   "outputs": [],
   "source": [
    "#https://gist.github.com/mkanai/098a8a01ff242cfcf92ebe7cea42e914\n",
    "#hyperparameter tuning tfidf\n",
    "\n",
    "import numpy as np\n",
    "import pandas as pd\n",
    "\n",
    "from sklearn.datasets import load_files\n",
    "from sklearn.feature_extraction.text import TfidfVectorizer\n",
    "from sklearn.model_selection import GridSearchCV\n",
    "from sklearn.naive_bayes import MultinomialNB\n",
    "#from sklearn.pipeline import Pipeline\n",
    "from sklearn.multiclass import OneVsRestClassifier\n",
    "\n",
    "\n",
    "from imblearn.pipeline import Pipeline"
   ]
  },
  {
   "cell_type": "code",
   "execution_count": 58,
   "metadata": {},
   "outputs": [],
   "source": [
    "pipeline = Pipeline([\n",
    "        ('tfidf', TfidfVectorizer()),\n",
    "        ('smote', SMOTE(random_state=0)) , \n",
    "        ('clf', svm.SVC(kernel='linear',  C= 11.327,random_state=0)),\n",
    "    ])\n",
    "\n",
    "\n",
    "parameters = {\n",
    "        'tfidf__max_features': [2000, 2500 , 5000, 10000, 15000],\n",
    "        'tfidf__max_df': [0.25,0.5,0.75,1], \n",
    "        'tfidf__ngram_range': [(1,1), (1,2),(1,3)],\n",
    "    }\n",
    "    \n",
    "word_train, word_test, sentiment_train, sentiment_test = training(fileName)"
   ]
  },
  {
   "cell_type": "code",
   "execution_count": 59,
   "metadata": {},
   "outputs": [
    {
     "name": "stdout",
     "output_type": "stream",
     "text": [
      "Fitting 5 folds for each of 60 candidates, totalling 300 fits\n",
      "[('tfidf', TfidfVectorizer(max_df=0.5, max_features=15000)), ('smote', SMOTE(random_state=0)), ('clf', SVC(C=11.327, kernel='linear', random_state=0))]\n"
     ]
    }
   ],
   "source": [
    " # grid search\n",
    "kfold = StratifiedKFold(n_splits=5)\n",
    "gs = GridSearchCV(pipeline, parameters, cv=kfold, n_jobs=-1, verbose=10)\n",
    "gs.fit(word_train,sentiment_train)\n",
    "\n",
    "# best estimator to fit\n",
    "print(gs.best_estimator_.steps)\n",
    "best_clf = gs.best_estimator_\n",
    "#word_Testprediction  = best_clf.predict(word_test_vec)\n",
    "\n",
    "   # # simple filename parser and output results\n",
    "   # p = np.vectorize(lambda x: x.split('.')[0].split('/')[2])\n",
    "   # util.write_predictions(Y_test, p(test.filenames).tolist(), 'tfidfvec_gs.csv')"
   ]
  },
  {
   "cell_type": "code",
   "execution_count": 36,
   "metadata": {},
   "outputs": [],
   "source": [
    "pipeline = Pipeline([\n",
    "        ('tfidf', TfidfVectorizer()),\n",
    "        ('smote', SMOTE(random_state=0)) , \n",
    "        ('clf', svm.SVC(kernel='linear', random_state=0)),\n",
    "    ])\n",
    "\n",
    "\n",
    "parameters = {\n",
    "        'tfidf__max_features': [2000, 2500 ], #, 5000, 10000, 15000],\n",
    "        'tfidf__max_df': [0.25,0.5] ,#,0.75,1], \n",
    "        'tfidf__ngram_range': [(1,1), (1,2),(1,3)],\n",
    "    }\n",
    "    \n",
    "word_train, word_test, sentiment_train, sentiment_test = training(fileName)\n",
    "sentiment_train_vec = np.array(sentiment_train)"
   ]
  },
  {
   "cell_type": "code",
   "execution_count": 31,
   "metadata": {},
   "outputs": [
    {
     "data": {
      "text/plain": [
       "array([1, 1, 1, ..., 1, 0, 0], dtype=int64)"
      ]
     },
     "execution_count": 31,
     "metadata": {},
     "output_type": "execute_result"
    }
   ],
   "source": [
    "sentiment_train_vec"
   ]
  },
  {
   "cell_type": "code",
   "execution_count": 37,
   "metadata": {},
   "outputs": [
    {
     "name": "stdout",
     "output_type": "stream",
     "text": [
      "Fitting 5 folds for each of 12 candidates, totalling 60 fits\n",
      "[('tfidf', TfidfVectorizer(max_df=0.5, max_features=2500, ngram_range=(1, 2))), ('smote', SMOTE(random_state=0)), ('clf', SVC(kernel='linear', random_state=0))]\n"
     ]
    }
   ],
   "source": [
    " # grid search\n",
    "kfold = StratifiedKFold(n_splits=5)\n",
    "gs = GridSearchCV(pipeline, parameters, cv=kfold, n_jobs=-1, verbose=10)\n",
    "gs.fit(word_train,sentiment_train_vec)\n",
    "\n",
    "# best estimator to fit\n",
    "print(gs.best_estimator_.steps)\n",
    "best_clf = gs.best_estimator_\n",
    "#word_Testprediction  = best_clf.predict(word_test_vec)\n",
    "\n",
    "   # # simple filename parser and output results\n",
    "   # p = np.vectorize(lambda x: x.split('.')[0].split('/')[2])\n",
    "   # util.write_predictions(Y_test, p(test.filenames).tolist(), 'tfidfvec_gs.csv')"
   ]
  },
  {
   "cell_type": "code",
   "execution_count": 49,
   "metadata": {},
   "outputs": [],
   "source": [
    "pipeline = Pipeline([\n",
    "        ('tfidf', TfidfVectorizer()),\n",
    "        ('sampling', SMOTE(random_state=0)) , \n",
    "        ('clf', svm.SVC(kernel='linear',  C= 11.327,random_state=0)),\n",
    "    ])\n",
    "\n",
    "\n",
    "parameters = {\n",
    "        'tfidf__max_features': (2000, 2500 , 5000, 10000, 15000),\n",
    "        'tfidf__max_df': (0.25,0.5,0.75,1), \n",
    "        'tfidf__ngram_range': ((1,1), (1,2),(1,3))\n",
    "    }\n",
    "    \n",
    "word_train, word_test, sentiment_train, sentiment_test = training(fileName)"
   ]
  },
  {
   "cell_type": "code",
   "execution_count": 56,
   "metadata": {},
   "outputs": [
    {
     "name": "stdout",
     "output_type": "stream",
     "text": [
      "Fitting 5 folds for each of 60 candidates, totalling 300 fits\n",
      "[('tfidf', TfidfVectorizer(max_df=0.5, max_features=15000)), ('sampling', SMOTE(random_state=0)), ('clf', SVC(C=11.327, kernel='linear', random_state=0))]\n"
     ]
    }
   ],
   "source": [
    " # grid search\n",
    "kfold = StratifiedKFold(n_splits=5)\n",
    "gs = GridSearchCV(pipeline, parameters, cv=kfold, n_jobs=-1, verbose=10)\n",
    "gs.fit(word_train,sentiment_train)\n",
    "\n",
    "# best estimator to fit\n",
    "print(gs.best_estimator_.steps)\n",
    "best_clf = gs.best_estimator_\n",
    "#word_Testprediction  = best_clf.predict(word_test_vec)\n",
    "\n",
    "   # # simple filename parser and output results\n",
    "   # p = np.vectorize(lambda x: x.split('.')[0].split('/')[2])\n",
    "   # util.write_predictions(Y_test, p(test.filenames).tolist(), 'tfidfvec_gs.csv')"
   ]
  },
  {
   "cell_type": "code",
   "execution_count": 38,
   "metadata": {},
   "outputs": [
    {
     "name": "stdout",
     "output_type": "stream",
     "text": [
      "----Best tfidf parameter----- \n",
      "Max feature:  2500\n",
      "Max df:  0.5\n",
      "Ngram range:  (1, 2)\n"
     ]
    }
   ],
   "source": [
    "print(\"----Best tfidf parameter----- \")\n",
    "\n",
    "print(\"Max feature: \", gs.best_estimator_.steps[0][1].max_features)\n",
    "print(\"Max df: \", gs.best_estimator_.steps[0][1].max_df)\n",
    "print(\"Ngram range: \", gs.best_estimator_.steps[0][1].ngram_range)"
   ]
  },
  {
   "attachments": {},
   "cell_type": "markdown",
   "metadata": {},
   "source": [
    "<t>BEST TFIDF HYPERPARAMETER</t>\n",
    "<ul> Max feature:  15000 </ul>\n",
    "<ul> Max df:  0.75 </ul>\n",
    "<ul> Ngram range:  (1, 1) </ul>\n",
    "\n",
    "<t>BEST TFIDF HYPERPARAMETER NEW</t>\n",
    "<ul> Max feature:  15000 </ul>\n",
    "<ul> Max df:  0.5 </ul>\n",
    "<ul> Ngram range:  (1, 1) </ul>"
   ]
  },
  {
   "cell_type": "code",
   "execution_count": 24,
   "metadata": {},
   "outputs": [],
   "source": [
    "import imblearn\n",
    "from imblearn.over_sampling import SMOTE\n",
    "#https://www.analyticsvidhya.com/blog/2020/10/overcoming-class-imbalance-using-smote-techniques/\n",
    "#https://towardsdatascience.com/applying-smote-for-class-imbalance-with-just-a-few-lines-of-code-python-cdf603e58688\n",
    "\n",
    "#https://stackoverflow.com/questions/50999596/smote-oversampling-on-text-classification-in-python\n",
    "\n",
    "from imblearn.pipeline import Pipeline, make_pipeline\n",
    "\n",
    "def trainingSmoteVectorizerTUNED(fileName):\n",
    "    #SMOTE IS USED AFTER TF-IDF\n",
    "\n",
    "    #-------------------smote--------------------\n",
    "    #HOW TO USE THE MODEL? , just use classifier.preditct(wordList)\n",
    "\n",
    "    #https://towardsdatascience.com/how-to-handle-smote-data-in-imbalanced-classification-problems-cf4b86e8c6a1\n",
    "    smt =  SMOTE(random_state=0)\n",
    "\n",
    "    #ONLY ON training data, not test data.\n",
    "    word_train, word_test, sentiment_train, sentiment_test = training(fileName)\n",
    "    \n",
    "    vect = TfidfVectorizer(ngram_range=(1,1) , max_df = 0.5, max_features=15000).fit(word_train)\n",
    "\n",
    "    word_Smote_vec, sentiment_Smote_vec, word_test_vec , sentiment_test_vec, vecWord , vecSentiment = vectorizer(fileName, vect,word_train, word_test, sentiment_train, sentiment_test)\n",
    "\n",
    "    word_Smote_vec , sentiment_Smote_vec = smt.fit_resample(word_Smote_vec, sentiment_Smote_vec)\n",
    "\n",
    "    #major difference here we return vect because need to use the vect.transform for prediction\n",
    "    return word_Smote_vec, sentiment_Smote_vec, word_test_vec , sentiment_test_vec, vecWord , vecSentiment, vect\n"
   ]
  },
  {
   "cell_type": "code",
   "execution_count": 25,
   "metadata": {},
   "outputs": [],
   "source": [
    "fileName = \"mergedv3.xls\""
   ]
  },
  {
   "cell_type": "code",
   "execution_count": 37,
   "metadata": {},
   "outputs": [
    {
     "name": "stdout",
     "output_type": "stream",
     "text": [
      "---HYPERPARAMETER TUNED TFIDF ---\n",
      "n_samples: 9600 n_features: 12880\n",
      "Counter({1: 7442, 0: 7442})\n",
      "AxesSubplot(0.125,0.125;0.775x0.755)\n",
      "Mean Accuracy: 89.72\n",
      "              precision    recall  f1-score   support\n",
      "\n",
      "           0       0.74      0.79      0.76       540\n",
      "           1       0.94      0.92      0.93      1860\n",
      "\n",
      "    accuracy                           0.89      2400\n",
      "   macro avg       0.84      0.85      0.84      2400\n",
      "weighted avg       0.89      0.89      0.89      2400\n",
      "\n",
      "-----------------\n",
      "Training Score:0.9643241064230046\n",
      "Cross V Score: 0.8971666666666666 +/- 0.006392269636921702\n",
      "Testing Score: 0.88875\n",
      "Cross & Test Diff: 0.008416666666666517\n",
      "Standard Deviations Away: 1.3166945615141001\n",
      "[[ 425  115]\n",
      " [ 152 1708]]\n"
     ]
    },
    {
     "data": {
      "image/png": "[encoded data removed]",
      "text/plain": [
       "<Figure size 432x288 with 1 Axes>"
      ]
     },
     "metadata": {
      "needs_background": "light"
     },
     "output_type": "display_data"
    }
   ],
   "source": [
    "#-----------------------------------------\n",
    "print(\"---HYPERPARAMETER TUNED TFIDF ---\")\n",
    "#JUST USE THIS AND INSERT BEST VALUE, no need to run hyperopt everytime\n",
    "# first time, the hyperparameter tuned is better.\n",
    "\n",
    "#HYPER PARAMETER TUNED, be sure to insert the values after finding best parameter\n",
    "classifierTunedVect = svm.SVC(kernel='linear' ,random_state=0)\n",
    "\n",
    "#Step 1 : Split train test\n",
    "#Step 2 : Tf-idf\n",
    "word_Smote_vec, sentiment_Smote_vec, word_test_vec , sentiment_test_vec, vecWord , vecSentiment , vectSMOTETFIDF = trainingSmoteVectorizerTUNED(fileName)\n",
    "\n",
    "#Step 3: Fit into classifier\n",
    "classifier(word_Smote_vec, sentiment_Smote_vec,classifierTunedVect)\n",
    "\n",
    "#Step 4: Display result\n",
    "displayResult(vecWord, vecSentiment, sentiment_test_vec,word_Smote_vec,word_test_vec,sentiment_Smote_vec,classifierTunedVect)"
   ]
  },
  {
   "cell_type": "code",
   "execution_count": 98,
   "metadata": {},
   "outputs": [
    {
     "name": "stdout",
     "output_type": "stream",
     "text": [
      "['aa' 'aaa' 'aaaa' ... 'zuado' 'zulu' 'zurck']\n"
     ]
    }
   ],
   "source": [
    "featureNames = np.array(vectSMOTETFIDF.get_feature_names())\n",
    "\n",
    "def argsort(seq):\n",
    "    # http://stackoverflow.com/questions/3071415/efficient-method-to-calculate-the-rank-vector-of-a-list-in-python\n",
    "    return sorted(range(len(seq)), key=seq.__getitem__)\n",
    "\n",
    "print(featureNames)\n",
    "#sorted_coef_index = defModel.coef_[0].argsort()"
   ]
  },
  {
   "attachments": {},
   "cell_type": "markdown",
   "metadata": {},
   "source": [
    "<t>USING THE PREDICTION MODEL</t>"
   ]
  },
  {
   "cell_type": "code",
   "execution_count": 48,
   "metadata": {},
   "outputs": [],
   "source": [
    "gameName = \"SMC\""
   ]
  },
  {
   "cell_type": "code",
   "execution_count": 49,
   "metadata": {},
   "outputs": [],
   "source": [
    "file = \"Preprocessed\"+ gameName + \"v3.xls\""
   ]
  },
  {
   "cell_type": "code",
   "execution_count": 50,
   "metadata": {},
   "outputs": [],
   "source": [
    "#Use the prediction model\n",
    "#https://stackoverflow.com/questions/66207282/how-can-i-make-sentiment-analysis-with-new-sentence-on-trained-model\n",
    "\n",
    "#------------------------------------------------\n",
    "\n",
    "#STEP 1:everytime we want to use model, need to transform reviews\n",
    "\n",
    "#Will not be using the sentiment\n",
    "reviews , sentiment = readFile(file)\n",
    "\n",
    "#tfidf here, andclassifier depends on the model we chose\n",
    "\n",
    "transformedReviews = vectSMOTETFIDF.transform(reviews)\n",
    "\n",
    "#------------------------------------------------\n",
    "#STEP 2: Feed into classifier\n",
    "predictedValues = classifierTunedVect.predict(transformedReviews)\n",
    "\n"
   ]
  },
  {
   "cell_type": "code",
   "execution_count": 29,
   "metadata": {},
   "outputs": [],
   "source": [
    "gameName = \"Stellaris\""
   ]
  },
  {
   "cell_type": "code",
   "execution_count": 51,
   "metadata": {},
   "outputs": [],
   "source": [
    "#STEP 3: INSERT the predicted values back into a new excel file\n",
    "\n",
    "#IMPORT DATA FROM EXCEL---------------------------   \n",
    "\n",
    "#insret data in excel\n",
    "#https://www.geeksforgeeks.org/writing-excel-sheet-using-python/\n",
    "import xlwt\n",
    "from xlwt import Workbook\n",
    "wb = Workbook()\n",
    "sheet1 = wb.add_sheet('Sheet 1') #, cell_overwrite_ok=True)\n",
    "\n",
    "df = pd.read_excel('Preprocessed'+ gameName + 'v3.xls')  \n",
    "\n",
    "\n",
    "sheet1.write(0, 0, \"score\")\n",
    "sheet1.write(0, 1, \"sentiment\")\n",
    "sheet1.write(0, 2, \"time\")\n",
    "\n",
    "for i in range (len(df)):\n",
    "\n",
    "    score = df['score'][i]\n",
    "\n",
    "    polarity = predictedValues[i]\n",
    "    if polarity == 1:\n",
    "        polarity = \"TRUE\"\n",
    "    else:\n",
    "        polarity = \"FALSE\"\n",
    "\n",
    "    time = df['time'][i]\n",
    "\n",
    "    sheet1.write(i+1, 0, score)\n",
    "    sheet1.write(i+1, 1, polarity)\n",
    "    sheet1.write(i+1, 2, int(time))\n",
    "\n",
    "\n",
    "wb.save('Predicted'+ gameName + 'v3.xls') \n",
    "#print(\"Test Score:\" ,random_result.score(word_test,sentiment_test))\n",
    "\n",
    "#why find both accuracy? to avoid overfit, so we compare\n",
    "#print(classification_report(sentiment_test, word_Testprediction))\n",
    "\n",
    "#print(\"Actual:\\t\\t\\t\\t\\t\\t\" , sentimentValues)\n",
    "#print(\"Test Prediction :\\t\\t\\t\" , word_Testprediction)\n",
    "#print(\"Train Prediction :\\t\\t\\t\" , word_Trainprediction)\n",
    "#print(\" Whole predicted values :\\t\" , classifier.predict(wordCount))"
   ]
  },
  {
   "attachments": {},
   "cell_type": "markdown",
   "metadata": {},
   "source": [
    "<t>Compare predicted and preprocessed true/false value</t>"
   ]
  },
  {
   "cell_type": "code",
   "execution_count": 55,
   "metadata": {},
   "outputs": [],
   "source": [
    "def comparePredicted(predFile,preFile):\n",
    "    dfPred = pd.read_excel(predFile)\n",
    "    dfPre  = pd.read_excel(preFile)\n",
    "        #xls = pd.ExcelFile(\"Preprocessed\"+gameName+\".xls\")\n",
    "        #df.info()\n",
    "    print(sns.countplot(dfPred['sentiment']))\n",
    "    print(sns.countplot(dfPre['sentiment']))    \n",
    "\n",
    "    sentValPred = Counter(dfPred['sentiment'])\n",
    "    sentValPre = Counter(dfPre['sentiment'])\n",
    "\n",
    "    sentPred = sentValPred.most_common()\n",
    "    numTruePred = sentPred[0][1] #get number of true sentiment\n",
    "    numFalsePred = sentPred[1][1] #get number of false sentiment]\n",
    "\n",
    "    sentPre = sentValPre.most_common()\n",
    "    numTruePre = sentPre[0][1] #get number of true sentiment\n",
    "    numFalsePre = sentPre[1][1] #get number of false sentiment\n",
    "\n",
    "    print(\"True predicted\" , numTruePred)\n",
    "    print(\"False predicted\" , numFalsePred)\n",
    "\n",
    "    print(\"True preprocess\" , numTruePre)\n",
    "    print(\"False preprocess\" , numFalsePre)"
   ]
  },
  {
   "cell_type": "code",
   "execution_count": 62,
   "metadata": {},
   "outputs": [],
   "source": [
    "name = \"Stellaris\""
   ]
  },
  {
   "cell_type": "code",
   "execution_count": 63,
   "metadata": {},
   "outputs": [
    {
     "name": "stdout",
     "output_type": "stream",
     "text": [
      "AxesSubplot(0.125,0.125;0.775x0.755)\n",
      "AxesSubplot(0.125,0.125;0.775x0.755)\n",
      "True predicted 12532\n",
      "False predicted 1506\n",
      "True preprocess 12798\n",
      "False preprocess 1240\n"
     ]
    },
    {
     "data": {
      "image/png": "[encoded data removed]",
      "text/plain": [
       "<Figure size 432x288 with 1 Axes>"
      ]
     },
     "metadata": {
      "needs_background": "light"
     },
     "output_type": "display_data"
    }
   ],
   "source": [
    "comparePredicted(\"Predicted\"+name+\"v3.xls\", \"Preprocessed\"+name+\"v3.xls\")"
   ]
  },
  {
   "cell_type": "code",
   "execution_count": 72,
   "metadata": {},
   "outputs": [],
   "source": [
    "gameName = \"Stellaris\""
   ]
  },
  {
   "cell_type": "code",
   "execution_count": 71,
   "metadata": {},
   "outputs": [],
   "source": [
    "#must use the prediction model first.\n",
    "#ALGORITHM TO CALCULATE SENTIMENT SCORE FOR EACH DAY AND SAVE TO EXCEL FOR EACH GAME , create module\n",
    "\n",
    "# import datetime module\n",
    "#https://www.javatpoint.com/python-epoch-to-datetime\n",
    "import datetime\n",
    "\n",
    "#IMPORT DATA FROM EXCEL---------------------------   \n",
    "#https://www.geeksforgeeks.org/how-to-iterate-through-excel-rows-in-python/\n",
    "import openpyxl\n",
    "from sqlalchemy import null\n",
    "\n",
    "#insret data in excel\n",
    "#https://www.geeksforgeeks.org/writing-excel-sheet-using-python/\n",
    "import xlwt\n",
    "from xlwt import Workbook\n",
    "wb = Workbook()\n",
    "sheet1 = wb.add_sheet('Sheet 1') #, cell_overwrite_ok=True)\n",
    "\n",
    "import math\n",
    "import pandas as pd\n",
    "\n",
    "#header_labels = ('test1','test2')\n",
    "\n",
    "#insert header\n",
    "#for indx,val in enumerate(header_labels):\n",
    " #   ws.Cells(1, indx+1).Value = val\n",
    "\n",
    "#*********LOCATION OF SENTIMENT DATASET ----------------------\n",
    "# load excel with its path\n",
    "#wrkbk = openpyxl.load_workbook(\"PreprocessedBloonsTD.xls\")\n",
    "\n",
    "def calcScore(fileName,saveName):\n",
    "    #df = pd.read_excel(\"Predicted\" + gameName + \"v3.xls\")  \n",
    "    #df = pd.read_excel(\"Preprocessed\" + gameName + \".xls\")  \n",
    "    df = pd.read_excel(fileName)  \n",
    "\n",
    "    # iterate through excel \n",
    "\n",
    "    #get time\n",
    "    cell_obj = (df['time'][0])  #col  2 to get epoch, row 2 to get the very first data\n",
    "    epoch_time =  cell_obj\n",
    "    datetime_obj = datetime.datetime.fromtimestamp( epoch_time )  \n",
    "    \n",
    "    # using the strftime() function  \n",
    "    datetime_str = datetime_obj.strftime( \"%d\" )  #get day only\n",
    "    datetime_int =  int(datetime_str)\n",
    "    currMonth = int(datetime_obj.strftime( \"%m\" ))\n",
    "\n",
    "    #for next month to compare currMonth and nextMonth\n",
    "    cell_objNext = (df['time'][1]) #i+1 because \n",
    "    datetime_objNext = datetime.datetime.fromtimestamp( cell_objNext )  \n",
    "                \n",
    "                # get the next date\n",
    "    nextMonth = int(datetime_objNext.strftime( \"%m\" ))\n",
    "\n",
    "    #STILL NEED TO CODING TO LOOP THROUGH 12 MONTHS\n",
    "    #STILL NEED TO TRANSFER POLARITY (SA POLARITY, NOT RECOMMENDATION POLARITY)\n",
    "\n",
    "    y = 0 #for new row when reaching a different day \n",
    "    score = 0\n",
    "    sumPositive = 0\n",
    "    sumNegative = 0\n",
    "\n",
    "    sheet1.write(0, 0, \"date\")\n",
    "    #sheet1.write(0, 1, \"player\") #just to see if it ends at the correct place\n",
    "    sheet1.write(0, 1, \"score\")\n",
    "\n",
    "    df['time_s'] = df['time'].shift(-1)\n",
    "\n",
    "    days = 31 #initial number of days for december, \n",
    "    for i in range(len(df)): #START FROM ROW 2\n",
    "\n",
    "                #change month so x does not go to negative\n",
    "                if currMonth != nextMonth:\n",
    "                    if nextMonth == 2: #for feb\n",
    "                        days = 29 \n",
    "\n",
    "                    if nextMonth in [1,3,5,7,8,10,12]: \n",
    "                        days = 31 \n",
    "                    if nextMonth in [4,6,9,11]:\n",
    "                        days = 30 \n",
    "\n",
    "                #check date days if theyre changing, CALCULATE SCORE:\n",
    "                if days == datetime_int:\n",
    "                #  polarity = (df['polarity'][i])\n",
    "                    polarity = (df['sentiment'][i])    \n",
    "\n",
    "                    if polarity == True:\n",
    "                        sumPositive += (df['score'][i])\n",
    "                    #    sumPositive =  sumPositive + 1 + (df['score'][i])  \n",
    "                #     sumPositive =  sumPositive + 1\n",
    "                    else:\n",
    "                        sumNegative += (df['score'][i]) \n",
    "                    #    sumNegative =  sumNegative + 1 + (df['score'][i]) \n",
    "                    #    sumNegative =  sumNegative + 1 \n",
    "                else:\n",
    "                    sumPositive = 0\n",
    "                    sumNegative = 0  \n",
    "\n",
    "                #   polarity =  (df['polarity'][i])  \n",
    "                    polarity = (df['sentiment'][i])  \n",
    "\n",
    "                    if polarity == True:\n",
    "                        sumPositive += (df['score'][i])\n",
    "                    #    sumPositive =  sumPositive + 1 + (df['score'][i])  \n",
    "                    #    sumPositive =  sumPositive + 1\n",
    "                    else:\n",
    "                        sumNegative += (df['score'][i]) \n",
    "                    #    sumNegative =  sumNegative + 1 + (df['score'][i]) \n",
    "                    #   sumNegative =  sumNegative + 1 \n",
    "                        \n",
    "                \n",
    "                epoch_time =  (df['time'][i])\n",
    "\n",
    "                #CONVERTS FROM EPOCH TO DATETIME\n",
    "                #datetime.datetime.fromtimestamp( epoch_time )\n",
    "                datetime_obj = datetime.datetime.fromtimestamp( epoch_time )\n",
    "\n",
    "                # using the strftime() function  \n",
    "                currMonth = int(datetime_obj.strftime( \"%m\" ))\n",
    "\n",
    "                datetime_str = datetime_obj.strftime( \"%d\" )  # %d get day only\n",
    "                datetime_int =  int(datetime_str)\n",
    "\n",
    "                #check if next row exist or not\n",
    "                if not(math.isnan(df['time_s'][i])):\n",
    "                    cell_objNext = (df['time_s'][i]) #i+1 because \n",
    "                    \n",
    "\n",
    "                datetime_objNext = datetime.datetime.fromtimestamp( cell_objNext )  \n",
    "                \n",
    "                # get the next date\n",
    "                nextMonth = int(datetime_objNext.strftime( \"%m\" ))\n",
    "\n",
    "                datetime_strNext  = datetime_objNext.strftime( \"%d\" )  #get day only\n",
    "                datetime_intNext  =  int(datetime_strNext)\n",
    "\n",
    "                date = datetime_obj.strftime(\"%Y-%m-%d\")\n",
    "\n",
    "                if datetime_int != datetime_intNext: #to insert row when it reaches the final day, so it will not overwrite same days\n",
    "\n",
    "                    \n",
    "                    #score is here, because only when days changed, it can sum everything\n",
    "                    # score = math.log10((sumPositive/sumNegative)) #column 3 to get score for each row #formula according to LR a bit\n",
    "                    score = math.log10((1+sumPositive/1+sumNegative))\n",
    "                #  score = (1+sumPositive)/(1+sumNegative)\n",
    "                #  score = sumPositive - sumNegative\n",
    "                    sheet1.write(y+1, 0, date)\n",
    "                    sheet1.write(y+1, 1, score)\n",
    "\n",
    "                #   print(\"---------------------\")\n",
    "                #    print(sumPositive)\n",
    "                #    print(sumNegative)\n",
    "                #    print(score)\n",
    "                    y += 1 #update when day finally changes\n",
    "\n",
    "\n",
    "                #usually, it will not insert the final row, so this to detect if next is empty, it will still insert.\n",
    "                if math.isnan(df['time_s'][i]):\n",
    "\n",
    "                    score = math.log10((1+sumPositive/1+sumNegative))\n",
    "                #  score = (1+sumPositive)/(1+sumNegative)\n",
    "                #  score = sumPositive - sumNegative\n",
    "                    sheet1.write(y+1, 0, date)\n",
    "                    sheet1.write(y+1, 1, score)\n",
    "\n",
    "    #try to make score finding difference from previous day. \n",
    "                    \n",
    "                if datetime_int != datetime_intNext:\n",
    "                    days -= 1 \n",
    "\n",
    "    wb.save(saveName)    #directory to save\n",
    "    #wb.save('sentScoreTest3'+ gameName + '.xls')"
   ]
  },
  {
   "cell_type": "code",
   "execution_count": 64,
   "metadata": {},
   "outputs": [],
   "source": [
    "#ALGORITHM TO CONSOLIDATE PEAK PLAYER AND  SENTIMENT SCORE\n",
    "\n",
    "import pandas as pd\n",
    "import seaborn as sns\n",
    "from collections import Counter\n",
    "from sklearn.preprocessing import LabelEncoder\n",
    "\n",
    "import xlwt\n",
    "from xlwt import Workbook\n",
    "from datetime import datetime\n",
    "\n",
    "def consolidate(sentiment,playerbase):\n",
    "    \n",
    "    wb = Workbook()\n",
    "    \n",
    "    sheet1 = wb.add_sheet('Sheet 1')\n",
    "    sheet1.write(0, 0, \"sentscore\")\n",
    "    sheet1.write(0, 1, \"peakplayer\")\n",
    "    sheet1.write(0, 2, \"datetime\")\n",
    "\n",
    "    excelRow = 0\n",
    "    doc = 0\n",
    "\n",
    "    dfSentiment = pd.ExcelFile(sentiment).parse() #xls\n",
    "    dfPlayer = pd.read_csv(playerbase) #csv\n",
    "    \n",
    "    for i in range(len(dfSentiment)): \n",
    "\n",
    "    #-----------GET REVIEW ------------\n",
    "            dateSent = str(dfSentiment['date'][i])\n",
    "            yearS = dateSent[0:4]\n",
    "            monthS = dateSent[5:7]\n",
    "            dayS = dateSent[8:10]    \n",
    "            dateSent = dayS + monthS + yearS \n",
    "            for j in range(len(dfPlayer)):\n",
    "            \n",
    "                datePlay = str(dfPlayer['DateTime'][j])\n",
    "                \n",
    "                yearP = datePlay[0:4]\n",
    "                monthP = datePlay[5:7]\n",
    "                dayP = datePlay[8:10]  \n",
    "                datePlay = dayP + monthP + yearP \n",
    "\n",
    "                if dateSent == datePlay:  #need to conver the date into somehting both are the same\n",
    "\n",
    "                    numPlayer = (dfPlayer['Players'][j])\n",
    "                    sentScore = (dfSentiment['score'][i])\n",
    "                    sheet1.write(excelRow+1, 0, float(sentScore))\n",
    "                    sheet1.write(excelRow+1, 1, int(numPlayer))\n",
    "                   # sheet1.write(excelRow+1, 2,  dayP + \"/\" + monthP + \"/\" + yearP )\n",
    "                   #sheet1.write(excelRow+1, 2,  dayP + \"-\" + monthP + \"-\" + yearP )\n",
    "                    sheet1.write(excelRow+1, 2,  yearP + \"-\" + monthP + \"-\" + dayP )\n",
    "                    excelRow += 1\n",
    "\n",
    "    wb.save(\"consolidated\" + gameName + \"-NotPredicted.xls\")  "
   ]
  },
  {
   "cell_type": "code",
   "execution_count": 76,
   "metadata": {},
   "outputs": [],
   "source": [
    "gameName = \"BloonsTD\"\n",
    "fileName = gameName + \"-NotPredicted.xls\""
   ]
  },
  {
   "cell_type": "code",
   "execution_count": 72,
   "metadata": {},
   "outputs": [],
   "source": [
    "\n",
    "saveName = \"sentScore\" + gameName + \"-NotPredicted.xls\"\n",
    "calcScore(fileName,saveName)"
   ]
  },
  {
   "cell_type": "code",
   "execution_count": 73,
   "metadata": {},
   "outputs": [],
   "source": [
    "#CALL consolidate\n",
    "#sentiment = \"sentScore\" + gameName + \".xls\" #eg, sentScoreBloonsTD\n",
    "#player = \"player\" + gameName + \".csv\" #eg, playerBloonsTD\n",
    "sentiment = saveName\n",
    "player = \"chart\" + gameName + \".csv\"\n",
    "consolidate(sentiment,player)"
   ]
  },
  {
   "cell_type": "code",
   "execution_count": 80,
   "metadata": {},
   "outputs": [],
   "source": [
    "#must use the prediction model first.\n",
    "#ALGORITHM TO CALCULATE SENTIMENT SCORE FOR EACH DAY AND SAVE TO EXCEL FOR EACH GAME , create module\n",
    "\n",
    "# import datetime module\n",
    "#https://www.javatpoint.com/python-epoch-to-datetime\n",
    "import datetime\n",
    "\n",
    "#IMPORT DATA FROM EXCEL---------------------------   \n",
    "#https://www.geeksforgeeks.org/how-to-iterate-through-excel-rows-in-python/\n",
    "import openpyxl\n",
    "from sqlalchemy import null\n",
    "\n",
    "#insret data in excel\n",
    "#https://www.geeksforgeeks.org/writing-excel-sheet-using-python/\n",
    "import xlwt\n",
    "from xlwt import Workbook\n",
    "wb = Workbook()\n",
    "sheet1 = wb.add_sheet('Sheet 1') #, cell_overwrite_ok=True)\n",
    "\n",
    "import math\n",
    "import pandas as pd\n",
    "\n",
    "#header_labels = ('test1','test2')\n",
    "\n",
    "#insert header\n",
    "#for indx,val in enumerate(header_labels):\n",
    " #   ws.Cells(1, indx+1).Value = val\n",
    "\n",
    "#*********LOCATION OF SENTIMENT DATASET ----------------------\n",
    "# load excel with its path\n",
    "#wrkbk = openpyxl.load_workbook(\"PreprocessedBloonsTD.xls\")\n",
    "\n",
    "\n",
    "\n",
    "\n",
    "def countTF(fileName):\n",
    "    #df = pd.read_excel(\"Predicted\" + gameName + \"v3.xls\")  \n",
    "    #df = pd.read_excel(\"Preprocessed\" + gameName + \".xls\")  \n",
    "    df = pd.read_excel(fileName)  \n",
    "    countPos = 0\n",
    "    countNeg = 0\n",
    "    # iterate through excel \n",
    "\n",
    "    for i in range(len(df)): #START FROM ROW 2\n",
    "\n",
    "                polarity = (df['sentiment'][i]) \n",
    "\n",
    "                if polarity == True:   \n",
    "                    if df['score'][i] != 0:\n",
    "                        countPos += 1\n",
    "                else:\n",
    "                    if df['score'][i] != 0:\n",
    "                        countNeg += 1 \n",
    "\n",
    "    print(\"Positive counted:\" , countPos)\n",
    "    print(\"Negative counted:\", countNeg)\n",
    "    #wb.save('sentScoreTest3'+ gameName + '.xls')"
   ]
  },
  {
   "cell_type": "code",
   "execution_count": 84,
   "metadata": {},
   "outputs": [
    {
     "name": "stdout",
     "output_type": "stream",
     "text": [
      "Positive counted: 3258\n",
      "Negative counted: 885\n"
     ]
    }
   ],
   "source": [
    "gameName = \"Stellaris\"\n",
    "fileName = gameName + \"-NotPredicted.xls\"\n",
    "countTF(fileName)"
   ]
  }
 ],
 "metadata": {
  "kernelspec": {
   "display_name": "Python 3.7.10 ('base')",
   "language": "python",
   "name": "python3"
  },
  "language_info": {
   "codemirror_mode": {
    "name": "ipython",
    "version": 3
   },
   "file_extension": ".py",
   "mimetype": "text/x-python",
   "name": "python",
   "nbconvert_exporter": "python",
   "pygments_lexer": "ipython3",
   "version": "3.7.10"
  },
  "orig_nbformat": 4,
  "vscode": {
   "interpreter": {
    "hash": "c1491aee46bb926d5f5d55901d51cac98939812fc7802d4e29813b812c68440e"
   }
  }
 },
 "nbformat": 4,
 "nbformat_minor": 2
}
